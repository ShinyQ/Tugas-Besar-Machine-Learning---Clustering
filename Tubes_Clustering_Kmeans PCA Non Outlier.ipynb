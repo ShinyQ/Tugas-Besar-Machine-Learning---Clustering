{
 "cells": [
  {
   "cell_type": "code",
   "execution_count": 1,
   "metadata": {},
   "outputs": [],
   "source": [
    "from scipy.spatial.distance import cdist\n",
    "from sklearn.cluster import KMeans\n",
    "\n",
    "import matplotlib.pyplot as plt\n",
    "import pandas as pd\n",
    "import numpy as np\n",
    "import random\n",
    "import math"
   ]
  },
  {
   "cell_type": "code",
   "execution_count": 2,
   "metadata": {},
   "outputs": [
    {
     "data": {
      "text/html": [
       "<div>\n",
       "<style scoped>\n",
       "    .dataframe tbody tr th:only-of-type {\n",
       "        vertical-align: middle;\n",
       "    }\n",
       "\n",
       "    .dataframe tbody tr th {\n",
       "        vertical-align: top;\n",
       "    }\n",
       "\n",
       "    .dataframe thead th {\n",
       "        text-align: right;\n",
       "    }\n",
       "</style>\n",
       "<table border=\"1\" class=\"dataframe\">\n",
       "  <thead>\n",
       "    <tr style=\"text-align: right;\">\n",
       "      <th></th>\n",
       "      <th>Component_1</th>\n",
       "      <th>Component_2</th>\n",
       "      <th>Tertarik</th>\n",
       "    </tr>\n",
       "  </thead>\n",
       "  <tbody>\n",
       "    <tr>\n",
       "      <th>12564</th>\n",
       "      <td>2.426503</td>\n",
       "      <td>-0.000733</td>\n",
       "      <td>0</td>\n",
       "    </tr>\n",
       "    <tr>\n",
       "      <th>142331</th>\n",
       "      <td>-1.829044</td>\n",
       "      <td>0.579858</td>\n",
       "      <td>0</td>\n",
       "    </tr>\n",
       "    <tr>\n",
       "      <th>115679</th>\n",
       "      <td>-2.246901</td>\n",
       "      <td>0.251286</td>\n",
       "      <td>0</td>\n",
       "    </tr>\n",
       "    <tr>\n",
       "      <th>1000</th>\n",
       "      <td>0.416976</td>\n",
       "      <td>0.208717</td>\n",
       "      <td>0</td>\n",
       "    </tr>\n",
       "    <tr>\n",
       "      <th>172936</th>\n",
       "      <td>2.089051</td>\n",
       "      <td>-0.292311</td>\n",
       "      <td>0</td>\n",
       "    </tr>\n",
       "  </tbody>\n",
       "</table>\n",
       "</div>"
      ],
      "text/plain": [
       "        Component_1  Component_2  Tertarik\n",
       "12564      2.426503    -0.000733         0\n",
       "142331    -1.829044     0.579858         0\n",
       "115679    -2.246901     0.251286         0\n",
       "1000       0.416976     0.208717         0\n",
       "172936     2.089051    -0.292311         0"
      ]
     },
     "execution_count": 2,
     "metadata": {},
     "output_type": "execute_result"
    }
   ],
   "source": [
    "# Menampilkan Sampel Data Dan Melakukan Drop Column Tertarik\n",
    "df = pd.read_csv('../Dataset/kendaraan_train_pca_clean.csv')\n",
    "df.sample(5)"
   ]
  },
  {
   "cell_type": "code",
   "execution_count": 3,
   "metadata": {},
   "outputs": [
    {
     "data": {
      "text/plain": [
       "Component_1    0\n",
       "Component_2    0\n",
       "Tertarik       0\n",
       "dtype: int64"
      ]
     },
     "execution_count": 3,
     "metadata": {},
     "output_type": "execute_result"
    }
   ],
   "source": [
    "# Mengecek Data Kosong\n",
    "df.isna().sum()"
   ]
  },
  {
   "cell_type": "markdown",
   "metadata": {},
   "source": [
    "## **Feature Selection**"
   ]
  },
  {
   "cell_type": "code",
   "execution_count": 4,
   "metadata": {},
   "outputs": [
    {
     "data": {
      "text/html": [
       "<div>\n",
       "<style scoped>\n",
       "    .dataframe tbody tr th:only-of-type {\n",
       "        vertical-align: middle;\n",
       "    }\n",
       "\n",
       "    .dataframe tbody tr th {\n",
       "        vertical-align: top;\n",
       "    }\n",
       "\n",
       "    .dataframe thead th {\n",
       "        text-align: right;\n",
       "    }\n",
       "</style>\n",
       "<table border=\"1\" class=\"dataframe\">\n",
       "  <thead>\n",
       "    <tr style=\"text-align: right;\">\n",
       "      <th></th>\n",
       "      <th>Component_1</th>\n",
       "      <th>Component_2</th>\n",
       "    </tr>\n",
       "  </thead>\n",
       "  <tbody>\n",
       "    <tr>\n",
       "      <th>0</th>\n",
       "      <td>-2.178823</td>\n",
       "      <td>0.271841</td>\n",
       "    </tr>\n",
       "    <tr>\n",
       "      <th>1</th>\n",
       "      <td>3.014007</td>\n",
       "      <td>0.124504</td>\n",
       "    </tr>\n",
       "    <tr>\n",
       "      <th>2</th>\n",
       "      <td>-2.211770</td>\n",
       "      <td>0.252479</td>\n",
       "    </tr>\n",
       "    <tr>\n",
       "      <th>3</th>\n",
       "      <td>2.379107</td>\n",
       "      <td>0.550604</td>\n",
       "    </tr>\n",
       "    <tr>\n",
       "      <th>4</th>\n",
       "      <td>-2.270448</td>\n",
       "      <td>0.208164</td>\n",
       "    </tr>\n",
       "  </tbody>\n",
       "</table>\n",
       "</div>"
      ],
      "text/plain": [
       "   Component_1  Component_2\n",
       "0    -2.178823     0.271841\n",
       "1     3.014007     0.124504\n",
       "2    -2.211770     0.252479\n",
       "3     2.379107     0.550604\n",
       "4    -2.270448     0.208164"
      ]
     },
     "execution_count": 4,
     "metadata": {},
     "output_type": "execute_result"
    }
   ],
   "source": [
    "df = df[['Component_1', 'Component_2']]\n",
    "df.head()"
   ]
  },
  {
   "cell_type": "code",
   "execution_count": 5,
   "metadata": {},
   "outputs": [
    {
     "name": "stdout",
     "output_type": "stream",
     "text": [
      "Total Data : 230631\n"
     ]
    }
   ],
   "source": [
    "# Mengecek Total Data Pada Dataframe\n",
    "print(\"Total Data :\", len(df))"
   ]
  },
  {
   "cell_type": "markdown",
   "metadata": {},
   "source": [
    "## **K-MEANS Algorithm**"
   ]
  },
  {
   "cell_type": "code",
   "execution_count": 6,
   "metadata": {},
   "outputs": [],
   "source": [
    "# Mendefinisikan Metode Euclidean Untuk Perhitungan Jarak Dari Centroid\n",
    "def euclidean(x, y):\n",
    "    return math.sqrt(sum((x - y)**2))\n",
    "\n",
    "\n",
    "def kmeans(k, max_iter, df):\n",
    "\n",
    "    # Inisialisasi Dictionary Centroid Kemudian Memilih Centroid Secara Random Pada Data\n",
    "    # Sesuai Banyaknya Cluster Yang Didefinisikan\n",
    "    centroid = {i: df[random.randint(0, len(df))] for i in range(k)}\n",
    "    print(f'Inisialisasi Centroid Random:\\nCluster 0: {centroid.get(0)}, Cluster 1: {centroid.get(1)}, Cluster 2: {centroid.get(2)} \\n')\n",
    "\n",
    "    # Mengcopy Centroid Saat Ini Untuk Acuan Pemberhentian Proses Iterasi Centroid Maksimal\n",
    "    temp_centroid = centroid.copy()\n",
    "\n",
    "    for i in range(max_iter):\n",
    "        # Mendefinisikan Dictionary Cluster Dan Mengisi Setiap Key\n",
    "        # Pada Cluster Berisi Array kosong, contoh : {0: [], 1: [], 2: []}\n",
    "        cluster = {i: [] for i in range(k)}\n",
    "\n",
    "        # Mencari Nilai Terdekat Pada Data Untuk Setiap Centroid Yang Telah Di Definisikan Sebelumnya\n",
    "        # Menggunakan Metode Euclidean Dan Mencari Nilai Minimum Pada Setiap Distance\n",
    "        # Untuk Dimasukkan Kedalam Dictionary Cluster\n",
    "        for x in df:\n",
    "            dist = [euclidean(x, centroid[c]) for c in centroid]\n",
    "            cluster[dist.index(min(dist))].append(x)\n",
    "\n",
    "        # Mencari Nilai Centroid Ulang Dari Setiap Cluster\n",
    "        # Yang Telah Dicari Sebelumnya Menggunakan Mean\n",
    "        for cl in cluster:\n",
    "            centroid[cl] = np.mean(cluster[cl], axis=0)\n",
    "\n",
    "        print(f'Iterasi Centroid Ke-{i+1}:\\nCluster 0: {centroid.get(0)}, Cluster 1: {centroid.get(1)}, Cluster 2: {centroid.get(2)} \\n')\n",
    "\n",
    "        # Pemberhentian Proses Iterasi Ketika Centroid Saat Ini Sama Dengan Nilai Centroid Sebelumnya\n",
    "        # Dilakukan Dengan Pengecekan Masing-Masing Value Dari Dictionary\n",
    "        if ((temp_centroid.get(0) == centroid.get(0))[0] and\n",
    "            (temp_centroid.get(1) == centroid.get(1))[0] and\n",
    "            (temp_centroid.get(2) == centroid.get(2))[0] and\n",
    "            (temp_centroid.get(3) == centroid.get(3))[0]):\n",
    "            break\n",
    "\n",
    "        # Mengcopy Centroid Yang Telah Berubah Dari Perhitungan Sebelumnya\n",
    "        temp_centroid = centroid.copy()\n",
    "\n",
    "    # Mengembalikan Nilai Dari Variabel Centroid Dan Cluster\n",
    "    return centroid, cluster\n"
   ]
  },
  {
   "cell_type": "markdown",
   "metadata": {},
   "source": [
    "## **Main Program**"
   ]
  },
  {
   "cell_type": "code",
   "execution_count": 7,
   "metadata": {},
   "outputs": [
    {
     "name": "stdout",
     "output_type": "stream",
     "text": [
      "Inisialisasi Centroid Random:\n",
      "Cluster 0: [ 1.94156065 -0.42051193], Cluster 1: [-1.08554319 -1.61290774], Cluster 2: [-0.9139128 -2.402551 ] \n",
      "\n",
      "Iterasi Centroid Ke-1:\n",
      "Cluster 0: [1.67482023 0.0828714 ], Cluster 1: [-0.5505437  -1.21306118], Cluster 2: [-0.5554068  -2.09905011] \n",
      "\n",
      "Iterasi Centroid Ke-2:\n",
      "Cluster 0: [1.71628682 0.21899181], Cluster 1: [-0.22136573 -1.08578954], Cluster 2: [-0.49259998 -2.02833082] \n",
      "\n",
      "Iterasi Centroid Ke-3:\n",
      "Cluster 0: [1.7496318  0.34563448], Cluster 1: [ 0.12218167 -1.04234112], Cluster 2: [-0.54933194 -1.99408455] \n",
      "\n",
      "Iterasi Centroid Ke-4:\n",
      "Cluster 0: [1.7848414  0.48564731], Cluster 1: [ 0.60497243 -0.99971451], Cluster 2: [-0.69222744 -1.82849139] \n",
      "\n",
      "Iterasi Centroid Ke-5:\n",
      "Cluster 0: [1.81243479 0.65817938], Cluster 1: [ 0.96369957 -0.92796264], Cluster 2: [-0.69747155 -1.72425612] \n",
      "\n",
      "Iterasi Centroid Ke-6:\n",
      "Cluster 0: [1.80199539 0.82905543], Cluster 1: [ 1.15325084 -0.83066496], Cluster 2: [-0.66378867 -1.68944906] \n",
      "\n",
      "Iterasi Centroid Ke-7:\n",
      "Cluster 0: [1.75067858 1.00012993], Cluster 1: [ 1.30034494 -0.74176284], Cluster 2: [-0.63290612 -1.67078481] \n",
      "\n",
      "Iterasi Centroid Ke-8:\n",
      "Cluster 0: [1.64459644 1.19425103], Cluster 1: [ 1.43845525 -0.65518888], Cluster 2: [-0.6053669  -1.65581932] \n",
      "\n",
      "Iterasi Centroid Ke-9:\n",
      "Cluster 0: [1.42833904 1.43406502], Cluster 1: [ 1.58829608 -0.55869723], Cluster 2: [-0.57326547 -1.63887183] \n",
      "\n",
      "Iterasi Centroid Ke-10:\n",
      "Cluster 0: [0.97994969 1.71064636], Cluster 1: [ 1.76688142 -0.43849745], Cluster 2: [-0.52944478 -1.61699766] \n",
      "\n",
      "Iterasi Centroid Ke-11:\n",
      "Cluster 0: [0.61821479 1.77912662], Cluster 1: [ 1.87289126 -0.35780896], Cluster 2: [-0.46935382 -1.58531076] \n",
      "\n",
      "Iterasi Centroid Ke-12:\n",
      "Cluster 0: [0.53597829 1.72552787], Cluster 1: [ 1.9200732  -0.33859286], Cluster 2: [-0.41084098 -1.55834352] \n",
      "\n",
      "Iterasi Centroid Ke-13:\n",
      "Cluster 0: [0.50655502 1.67381683], Cluster 1: [ 1.96229424 -0.33179912], Cluster 2: [-0.3751601  -1.54442458] \n",
      "\n",
      "Iterasi Centroid Ke-14:\n",
      "Cluster 0: [0.4946806  1.66439013], Cluster 1: [ 1.97663688 -0.3217218 ], Cluster 2: [-0.3515786  -1.53865533] \n",
      "\n",
      "Iterasi Centroid Ke-15:\n",
      "Cluster 0: [0.49131958 1.66289956], Cluster 1: [ 1.98429541 -0.31584638], Cluster 2: [-0.33820916 -1.53409726] \n",
      "\n",
      "Iterasi Centroid Ke-16:\n",
      "Cluster 0: [0.49004248 1.66274274], Cluster 1: [ 1.98876956 -0.31229744], Cluster 2: [-0.33051083 -1.53122639] \n",
      "\n",
      "Iterasi Centroid Ke-17:\n",
      "Cluster 0: [0.48903811 1.66269081], Cluster 1: [ 1.99153964 -0.31007116], Cluster 2: [-0.32583333 -1.52937404] \n",
      "\n",
      "Iterasi Centroid Ke-18:\n",
      "Cluster 0: [0.48859853 1.66280755], Cluster 1: [ 1.99327825 -0.30872857], Cluster 2: [-0.32277319 -1.52806173] \n",
      "\n",
      "Iterasi Centroid Ke-19:\n",
      "Cluster 0: [0.48854275 1.662819  ], Cluster 1: [ 1.99425999 -0.30799522], Cluster 2: [-0.32099782 -1.52742903] \n",
      "\n",
      "Iterasi Centroid Ke-20:\n",
      "Cluster 0: [0.48857101 1.66297906], Cluster 1: [ 1.9948239  -0.30754815], Cluster 2: [-0.31990713 -1.52697131] \n",
      "\n",
      "Iterasi Centroid Ke-21:\n",
      "Cluster 0: [0.48859424 1.6630986 ], Cluster 1: [ 1.99515497 -0.30729814], Cluster 2: [-0.31927722 -1.52666932] \n",
      "\n",
      "Iterasi Centroid Ke-22:\n",
      "Cluster 0: [0.48859424 1.6630986 ], Cluster 1: [ 1.99532227 -0.3071765 ], Cluster 2: [-0.31898108 -1.52656421] \n",
      "\n",
      "Iterasi Centroid Ke-23:\n",
      "Cluster 0: [0.48859424 1.6630986 ], Cluster 1: [ 1.99540974 -0.30710299], Cluster 2: [-0.31881382 -1.52651775] \n",
      "\n",
      "Iterasi Centroid Ke-24:\n",
      "Cluster 0: [0.48859424 1.6630986 ], Cluster 1: [ 1.99540974 -0.30710299], Cluster 2: [-0.31881382 -1.52651775] \n",
      "\n"
     ]
    }
   ],
   "source": [
    "# Merubah DataFrame Menjadi Numpy Array\n",
    "data = df.to_numpy()\n",
    "\n",
    "# Memasukkan Nilai K dan Maksimum Iterasi\n",
    "k = 4\n",
    "max_iter = 30\n",
    "\n",
    "# Memanggil Fungsi kmeans Yang Akan Mengembalikan Nilai Centroid Dan Cluster\n",
    "centroid, cluster = kmeans(k, max_iter, data)"
   ]
  },
  {
   "cell_type": "markdown",
   "metadata": {},
   "source": [
    "## **Hasil Proses Cluster Final**"
   ]
  },
  {
   "cell_type": "code",
   "execution_count": 8,
   "metadata": {},
   "outputs": [
    {
     "data": {
      "text/html": [
       "<div>\n",
       "<style scoped>\n",
       "    .dataframe tbody tr th:only-of-type {\n",
       "        vertical-align: middle;\n",
       "    }\n",
       "\n",
       "    .dataframe tbody tr th {\n",
       "        vertical-align: top;\n",
       "    }\n",
       "\n",
       "    .dataframe thead th {\n",
       "        text-align: right;\n",
       "    }\n",
       "</style>\n",
       "<table border=\"1\" class=\"dataframe\">\n",
       "  <thead>\n",
       "    <tr style=\"text-align: right;\">\n",
       "      <th></th>\n",
       "      <th>Component_1</th>\n",
       "      <th>Component_2</th>\n",
       "      <th>Cluster</th>\n",
       "    </tr>\n",
       "  </thead>\n",
       "  <tbody>\n",
       "    <tr>\n",
       "      <th>2089</th>\n",
       "      <td>2.811341</td>\n",
       "      <td>2.054189</td>\n",
       "      <td>0</td>\n",
       "    </tr>\n",
       "    <tr>\n",
       "      <th>134203</th>\n",
       "      <td>-0.502366</td>\n",
       "      <td>-2.015485</td>\n",
       "      <td>2</td>\n",
       "    </tr>\n",
       "    <tr>\n",
       "      <th>55909</th>\n",
       "      <td>1.442178</td>\n",
       "      <td>-0.802238</td>\n",
       "      <td>1</td>\n",
       "    </tr>\n",
       "    <tr>\n",
       "      <th>133332</th>\n",
       "      <td>-1.579982</td>\n",
       "      <td>-1.057188</td>\n",
       "      <td>2</td>\n",
       "    </tr>\n",
       "    <tr>\n",
       "      <th>165673</th>\n",
       "      <td>-1.956137</td>\n",
       "      <td>0.485767</td>\n",
       "      <td>3</td>\n",
       "    </tr>\n",
       "    <tr>\n",
       "      <th>194154</th>\n",
       "      <td>-2.107810</td>\n",
       "      <td>0.340639</td>\n",
       "      <td>3</td>\n",
       "    </tr>\n",
       "    <tr>\n",
       "      <th>90683</th>\n",
       "      <td>2.291276</td>\n",
       "      <td>-0.150777</td>\n",
       "      <td>1</td>\n",
       "    </tr>\n",
       "    <tr>\n",
       "      <th>17612</th>\n",
       "      <td>1.881223</td>\n",
       "      <td>1.368813</td>\n",
       "      <td>0</td>\n",
       "    </tr>\n",
       "    <tr>\n",
       "      <th>43060</th>\n",
       "      <td>1.783869</td>\n",
       "      <td>-0.525886</td>\n",
       "      <td>1</td>\n",
       "    </tr>\n",
       "    <tr>\n",
       "      <th>61567</th>\n",
       "      <td>2.400429</td>\n",
       "      <td>-0.038149</td>\n",
       "      <td>1</td>\n",
       "    </tr>\n",
       "  </tbody>\n",
       "</table>\n",
       "</div>"
      ],
      "text/plain": [
       "        Component_1  Component_2  Cluster\n",
       "2089       2.811341     2.054189        0\n",
       "134203    -0.502366    -2.015485        2\n",
       "55909      1.442178    -0.802238        1\n",
       "133332    -1.579982    -1.057188        2\n",
       "165673    -1.956137     0.485767        3\n",
       "194154    -2.107810     0.340639        3\n",
       "90683      2.291276    -0.150777        1\n",
       "17612      1.881223     1.368813        0\n",
       "43060      1.783869    -0.525886        1\n",
       "61567      2.400429    -0.038149        1"
      ]
     },
     "execution_count": 8,
     "metadata": {},
     "output_type": "execute_result"
    }
   ],
   "source": [
    "# Inisialisasi Array Untuk Dat Cluster\n",
    "df = []\n",
    "\n",
    "# Melakukan Perulangan Untuk Setiap Key Pada Data\n",
    "# Hasil Proses K-Means Untuk Diinputkan Kedalam Array Cluster (df)\n",
    "for key in cluster.keys():\n",
    "    for c in cluster.get(key):\n",
    "        df.append((c[0], c[1], key))\n",
    "\n",
    "# Set Array df menjadi dataframe, Menamakan nama kolom dan menampilkannya\n",
    "df = pd.DataFrame(df)\n",
    "df.columns = ['Component_1', 'Component_2', 'Cluster']\n",
    "df.sample(10)"
   ]
  },
  {
   "cell_type": "code",
   "execution_count": 9,
   "metadata": {},
   "outputs": [
    {
     "name": "stdout",
     "output_type": "stream",
     "text": [
      "Centroid 1 : [0.48859424 1.6630986 ]\n",
      "Centroid 2 : [ 1.99540974 -0.30710299]\n",
      "Centroid 3 : [-0.31881382 -1.52651775]\n",
      "Centroid 4 : [-1.97855515  0.33574245]\n"
     ]
    }
   ],
   "source": [
    "# Menampilkan Letak Seluruh Centroids\n",
    "for i in range(k):\n",
    "    print(f'Centroid {i+1} :', centroid[i])"
   ]
  },
  {
   "cell_type": "code",
   "execution_count": 10,
   "metadata": {},
   "outputs": [
    {
     "data": {
      "text/html": [
       "<div>\n",
       "<style scoped>\n",
       "    .dataframe tbody tr th:only-of-type {\n",
       "        vertical-align: middle;\n",
       "    }\n",
       "\n",
       "    .dataframe tbody tr th {\n",
       "        vertical-align: top;\n",
       "    }\n",
       "\n",
       "    .dataframe thead th {\n",
       "        text-align: right;\n",
       "    }\n",
       "</style>\n",
       "<table border=\"1\" class=\"dataframe\">\n",
       "  <thead>\n",
       "    <tr style=\"text-align: right;\">\n",
       "      <th></th>\n",
       "      <th>Cluster 1</th>\n",
       "      <th>Cluster 2</th>\n",
       "      <th>Cluster 3</th>\n",
       "      <th>Cluster 4</th>\n",
       "    </tr>\n",
       "  </thead>\n",
       "  <tbody>\n",
       "    <tr>\n",
       "      <th>21572</th>\n",
       "      <td>[-0.1813497190422023, 0.6762293028939982]</td>\n",
       "      <td>[3.770294608584266, 0.7488656211771185]</td>\n",
       "      <td>[-1.350084974740092, -0.9975143376507132]</td>\n",
       "      <td>[-1.61049640249497, 0.7845588819957053]</td>\n",
       "    </tr>\n",
       "    <tr>\n",
       "      <th>25380</th>\n",
       "      <td>[1.3814177850198124, 2.811623698569663]</td>\n",
       "      <td>[1.4646001696848134, -0.775860548645855]</td>\n",
       "      <td>[-0.9887974653414784, -2.4296013332901003]</td>\n",
       "      <td>[-1.9527923368168227, 0.5065139224047202]</td>\n",
       "    </tr>\n",
       "    <tr>\n",
       "      <th>15251</th>\n",
       "      <td>[-0.5168667251122039, 1.317508392852098]</td>\n",
       "      <td>[1.42602982141965, 0.0250160709571086]</td>\n",
       "      <td>[-0.2229754697309343, -1.8150201717161627]</td>\n",
       "      <td>[-2.0502663103501204, -0.5412192218003999]</td>\n",
       "    </tr>\n",
       "    <tr>\n",
       "      <th>48308</th>\n",
       "      <td>NaN</td>\n",
       "      <td>[1.7791586739692558, -0.5357380594423168]</td>\n",
       "      <td>NaN</td>\n",
       "      <td>[-1.8130338548732865, 0.5985538313833134]</td>\n",
       "    </tr>\n",
       "    <tr>\n",
       "      <th>55230</th>\n",
       "      <td>NaN</td>\n",
       "      <td>[1.8739927816529955, -0.3321788717618316]</td>\n",
       "      <td>NaN</td>\n",
       "      <td>[-2.5274374507512443, 0.002862581905907]</td>\n",
       "    </tr>\n",
       "    <tr>\n",
       "      <th>55382</th>\n",
       "      <td>NaN</td>\n",
       "      <td>[1.913874122474636, -0.3307392287587535]</td>\n",
       "      <td>NaN</td>\n",
       "      <td>[-1.5165055628790982, 0.8611521918372754]</td>\n",
       "    </tr>\n",
       "    <tr>\n",
       "      <th>22029</th>\n",
       "      <td>[2.0816452150256497, 1.5435913774773464]</td>\n",
       "      <td>[1.856017327113867, -0.4772020904655527]</td>\n",
       "      <td>[0.7449041931506041, -1.351171631025067]</td>\n",
       "      <td>[-2.5363799078380773, 0.0049917140069931]</td>\n",
       "    </tr>\n",
       "    <tr>\n",
       "      <th>67772</th>\n",
       "      <td>NaN</td>\n",
       "      <td>[1.3218868647760456, -0.0537671149695394]</td>\n",
       "      <td>NaN</td>\n",
       "      <td>[-1.7761069019572098, -0.3257937323630199]</td>\n",
       "    </tr>\n",
       "  </tbody>\n",
       "</table>\n",
       "</div>"
      ],
      "text/plain": [
       "                                       Cluster 1  \\\n",
       "21572  [-0.1813497190422023, 0.6762293028939982]   \n",
       "25380    [1.3814177850198124, 2.811623698569663]   \n",
       "15251   [-0.5168667251122039, 1.317508392852098]   \n",
       "48308                                        NaN   \n",
       "55230                                        NaN   \n",
       "55382                                        NaN   \n",
       "22029   [2.0816452150256497, 1.5435913774773464]   \n",
       "67772                                        NaN   \n",
       "\n",
       "                                       Cluster 2  \\\n",
       "21572    [3.770294608584266, 0.7488656211771185]   \n",
       "25380   [1.4646001696848134, -0.775860548645855]   \n",
       "15251     [1.42602982141965, 0.0250160709571086]   \n",
       "48308  [1.7791586739692558, -0.5357380594423168]   \n",
       "55230  [1.8739927816529955, -0.3321788717618316]   \n",
       "55382   [1.913874122474636, -0.3307392287587535]   \n",
       "22029   [1.856017327113867, -0.4772020904655527]   \n",
       "67772  [1.3218868647760456, -0.0537671149695394]   \n",
       "\n",
       "                                        Cluster 3  \\\n",
       "21572   [-1.350084974740092, -0.9975143376507132]   \n",
       "25380  [-0.9887974653414784, -2.4296013332901003]   \n",
       "15251  [-0.2229754697309343, -1.8150201717161627]   \n",
       "48308                                         NaN   \n",
       "55230                                         NaN   \n",
       "55382                                         NaN   \n",
       "22029    [0.7449041931506041, -1.351171631025067]   \n",
       "67772                                         NaN   \n",
       "\n",
       "                                        Cluster 4  \n",
       "21572     [-1.61049640249497, 0.7845588819957053]  \n",
       "25380   [-1.9527923368168227, 0.5065139224047202]  \n",
       "15251  [-2.0502663103501204, -0.5412192218003999]  \n",
       "48308   [-1.8130338548732865, 0.5985538313833134]  \n",
       "55230    [-2.5274374507512443, 0.002862581905907]  \n",
       "55382   [-1.5165055628790982, 0.8611521918372754]  \n",
       "22029   [-2.5363799078380773, 0.0049917140069931]  \n",
       "67772  [-1.7761069019572098, -0.3257937323630199]  "
      ]
     },
     "execution_count": 10,
     "metadata": {},
     "output_type": "execute_result"
    }
   ],
   "source": [
    "# Memetakkan Nilai X Dan Y Untuk Setiap Data Pada Dictionary Cluster\n",
    "clusterize = pd.DataFrame(dict([(k, pd.Series(v)) for k, v in cluster.items()]))\n",
    "\n",
    "# Membuat Nama Kolom Cluster Berdasarkan Jumlah Cluster Pada Clusterize\n",
    "col = []\n",
    "for i in range(len(clusterize.columns)):\n",
    "    col.append('Cluster ' + str(i + 1))\n",
    "\n",
    "# Melakukan Set Nama Kolom Dan Menampilkan Sample Data Cluster\n",
    "clusterize.columns = col\n",
    "clusterize.sample(8)\n"
   ]
  },
  {
   "cell_type": "markdown",
   "metadata": {},
   "source": [
    "## **Visualisasi Cluster**"
   ]
  },
  {
   "cell_type": "code",
   "execution_count": 11,
   "metadata": {},
   "outputs": [
    {
     "data": {
      "image/png": "[encoded data removed]",
      "text/plain": [
       "<Figure size 576x576 with 1 Axes>"
      ]
     },
     "metadata": {
      "needs_background": "light"
     },
     "output_type": "display_data"
    }
   ],
   "source": [
    "# Set Warna Setiap CLuster\n",
    "colors = ['r', 'g', '#0080ff', '#e69500', '#e89500']\n",
    "\n",
    "# Set Ukuran Dan Judul Plot\n",
    "plt.figure(figsize=(8, 8))\n",
    "plt.title('Data Clustering Result')\n",
    "\n",
    "# Melakukan Looping Setiap Titik Data Dan Centroid\n",
    "for i in range(k):\n",
    "    plt.scatter(\n",
    "        df['Component_1'][df['Cluster'] == i], \n",
    "        df['Component_2'][df['Cluster'] == i],\n",
    "        color=colors[i],\n",
    "        label=f'Cluster {i}'\n",
    "    )\n",
    "\n",
    "    plt.scatter(centroid[i][0], centroid[i][1], color='k', marker='P')\n",
    "\n",
    "# Acuan Penampilan Label Centroid\n",
    "plt.scatter(centroid[0][0], centroid[0][1], color='k', label=\"Centroids\", marker='P')\n",
    "\n",
    "# Set Nama Label X Dan Y Pada Plot Dan Set Tempat Legend Ditampilkan\n",
    "plt.xlabel(\"Component 1\")\n",
    "plt.ylabel(\"Component 2\")\n",
    "plt.legend(loc='best', bbox_to_anchor=(1, 0.5))\n",
    "plt.show()\n"
   ]
  },
  {
   "cell_type": "markdown",
   "metadata": {},
   "source": [
    "## **Evaluasi Model**"
   ]
  },
  {
   "cell_type": "code",
   "execution_count": 12,
   "metadata": {},
   "outputs": [
    {
     "data": {
      "image/png": "[encoded data removed]",
      "text/plain": [
       "<Figure size 432x288 with 1 Axes>"
      ]
     },
     "metadata": {
      "needs_background": "light"
     },
     "output_type": "display_data"
    }
   ],
   "source": [
    "# Inisialisasi Array Untuk Distortion\n",
    "distortions = []\n",
    "\n",
    "# Inisialisasi Range K\n",
    "K = range(2, 9)\n",
    "\n",
    "# Melakukan Perulangan Untuk Setiap Range\n",
    "for i in K:\n",
    "    # Membangun Dan Fit Dataset\n",
    "    model = KMeans(n_clusters=i).fit(df)\n",
    "    model.fit(df)\n",
    "\n",
    "    # Memasukkan Hasil Dari Jumlah cdist data, cluster_center Ke Array\n",
    "    distortions.append(sum(np.min(cdist(df, model.cluster_centers_, 'euclidean'), axis=1)) / df.shape[0])\n",
    "\n",
    "# Plot data\n",
    "plt.plot(K, distortions, 'bx-')\n",
    "plt.xlabel('Nilai K')\n",
    "plt.ylabel('Distortion')\n",
    "plt.title('Evaluasi Jumlah Cluster Dengan Elbow Method')\n",
    "plt.show()"
   ]
  }
 ],
 "metadata": {
  "interpreter": {
   "hash": "2bf746931fd58f1246b6df4740a30aa94cbb7406c646ac7ef817c7ae9c273626"
  },
  "kernelspec": {
   "display_name": "Python 3.9.0 64-bit",
   "name": "python3"
  },
  "language_info": {
   "codemirror_mode": {
    "name": "ipython",
    "version": 3
   },
   "file_extension": ".py",
   "mimetype": "text/x-python",
   "name": "python",
   "nbconvert_exporter": "python",
   "pygments_lexer": "ipython3",
   "version": "3.9.0"
  },
  "orig_nbformat": 4
 },
 "nbformat": 4,
 "nbformat_minor": 2
}
