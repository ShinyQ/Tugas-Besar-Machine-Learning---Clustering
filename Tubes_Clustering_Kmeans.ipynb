{
 "cells": [
  {
   "cell_type": "code",
   "execution_count": 1,
   "metadata": {},
   "outputs": [],
   "source": [
    "from scipy.spatial.distance import cdist\n",
    "from sklearn.cluster import KMeans\n",
    "\n",
    "import matplotlib.pyplot as plt\n",
    "import seaborn as sns\n",
    "import pandas as pd\n",
    "import numpy as np\n",
    "import random\n",
    "import math"
   ]
  },
  {
   "cell_type": "code",
   "execution_count": 2,
   "metadata": {},
   "outputs": [
    {
     "data": {
      "text/html": [
       "<div>\n",
       "<style scoped>\n",
       "    .dataframe tbody tr th:only-of-type {\n",
       "        vertical-align: middle;\n",
       "    }\n",
       "\n",
       "    .dataframe tbody tr th {\n",
       "        vertical-align: top;\n",
       "    }\n",
       "\n",
       "    .dataframe thead th {\n",
       "        text-align: right;\n",
       "    }\n",
       "</style>\n",
       "<table border=\"1\" class=\"dataframe\">\n",
       "  <thead>\n",
       "    <tr style=\"text-align: right;\">\n",
       "      <th></th>\n",
       "      <th>Jenis_Kelamin</th>\n",
       "      <th>Umur</th>\n",
       "      <th>SIM</th>\n",
       "      <th>Kode_Daerah</th>\n",
       "      <th>Sudah_Asuransi</th>\n",
       "      <th>Umur_Kendaraan</th>\n",
       "      <th>Kendaraan_Rusak</th>\n",
       "      <th>Premi</th>\n",
       "      <th>Kanal_Penjualan</th>\n",
       "      <th>Lama_Berlangganan</th>\n",
       "      <th>Tertarik</th>\n",
       "    </tr>\n",
       "  </thead>\n",
       "  <tbody>\n",
       "    <tr>\n",
       "      <th>69418</th>\n",
       "      <td>0.946297</td>\n",
       "      <td>0.538754</td>\n",
       "      <td>0.045261</td>\n",
       "      <td>0.123410</td>\n",
       "      <td>-9.443776e-01</td>\n",
       "      <td>0.705243</td>\n",
       "      <td>-2.277834e-16</td>\n",
       "      <td>-0.456607</td>\n",
       "      <td>-1.136010</td>\n",
       "      <td>-0.689486</td>\n",
       "      <td>0</td>\n",
       "    </tr>\n",
       "    <tr>\n",
       "      <th>167711</th>\n",
       "      <td>0.946297</td>\n",
       "      <td>0.604836</td>\n",
       "      <td>0.045261</td>\n",
       "      <td>0.123410</td>\n",
       "      <td>-9.443776e-01</td>\n",
       "      <td>0.705243</td>\n",
       "      <td>1.015880e+00</td>\n",
       "      <td>0.577866</td>\n",
       "      <td>0.226844</td>\n",
       "      <td>-1.240756</td>\n",
       "      <td>0</td>\n",
       "    </tr>\n",
       "    <tr>\n",
       "      <th>64767</th>\n",
       "      <td>-1.113009</td>\n",
       "      <td>0.406591</td>\n",
       "      <td>0.045261</td>\n",
       "      <td>0.123410</td>\n",
       "      <td>-9.443776e-01</td>\n",
       "      <td>0.705243</td>\n",
       "      <td>1.015880e+00</td>\n",
       "      <td>1.112759</td>\n",
       "      <td>0.226844</td>\n",
       "      <td>0.070042</td>\n",
       "      <td>0</td>\n",
       "    </tr>\n",
       "    <tr>\n",
       "      <th>278057</th>\n",
       "      <td>-1.113009</td>\n",
       "      <td>-0.981119</td>\n",
       "      <td>0.045261</td>\n",
       "      <td>1.516984</td>\n",
       "      <td>1.142855e-16</td>\n",
       "      <td>-1.102610</td>\n",
       "      <td>-1.035810e+00</td>\n",
       "      <td>-0.005746</td>\n",
       "      <td>0.756843</td>\n",
       "      <td>1.527845</td>\n",
       "      <td>0</td>\n",
       "    </tr>\n",
       "    <tr>\n",
       "      <th>264509</th>\n",
       "      <td>-1.113009</td>\n",
       "      <td>0.935243</td>\n",
       "      <td>0.045261</td>\n",
       "      <td>0.123410</td>\n",
       "      <td>-9.443776e-01</td>\n",
       "      <td>0.705243</td>\n",
       "      <td>1.015880e+00</td>\n",
       "      <td>0.788843</td>\n",
       "      <td>0.226844</td>\n",
       "      <td>0.682564</td>\n",
       "      <td>0</td>\n",
       "    </tr>\n",
       "  </tbody>\n",
       "</table>\n",
       "</div>"
      ],
      "text/plain": [
       "        Jenis_Kelamin      Umur       SIM  Kode_Daerah  Sudah_Asuransi  \\\n",
       "69418        0.946297  0.538754  0.045261     0.123410   -9.443776e-01   \n",
       "167711       0.946297  0.604836  0.045261     0.123410   -9.443776e-01   \n",
       "64767       -1.113009  0.406591  0.045261     0.123410   -9.443776e-01   \n",
       "278057      -1.113009 -0.981119  0.045261     1.516984    1.142855e-16   \n",
       "264509      -1.113009  0.935243  0.045261     0.123410   -9.443776e-01   \n",
       "\n",
       "        Umur_Kendaraan  Kendaraan_Rusak     Premi  Kanal_Penjualan  \\\n",
       "69418         0.705243    -2.277834e-16 -0.456607        -1.136010   \n",
       "167711        0.705243     1.015880e+00  0.577866         0.226844   \n",
       "64767         0.705243     1.015880e+00  1.112759         0.226844   \n",
       "278057       -1.102610    -1.035810e+00 -0.005746         0.756843   \n",
       "264509        0.705243     1.015880e+00  0.788843         0.226844   \n",
       "\n",
       "        Lama_Berlangganan  Tertarik  \n",
       "69418           -0.689486         0  \n",
       "167711          -1.240756         0  \n",
       "64767            0.070042         0  \n",
       "278057           1.527845         0  \n",
       "264509           0.682564         0  "
      ]
     },
     "execution_count": 2,
     "metadata": {},
     "output_type": "execute_result"
    }
   ],
   "source": [
    "# Menampilkan Sampel Data Dan Melakukan Drop Column Tertarik\n",
    "df = pd.read_csv('../Dataset/kendaraan_train_clean.csv')\n",
    "df.sample(5)"
   ]
  },
  {
   "cell_type": "code",
   "execution_count": 3,
   "metadata": {},
   "outputs": [
    {
     "data": {
      "text/plain": [
       "Jenis_Kelamin        0\n",
       "Umur                 0\n",
       "SIM                  0\n",
       "Kode_Daerah          0\n",
       "Sudah_Asuransi       0\n",
       "Umur_Kendaraan       0\n",
       "Kendaraan_Rusak      0\n",
       "Premi                0\n",
       "Kanal_Penjualan      0\n",
       "Lama_Berlangganan    0\n",
       "Tertarik             0\n",
       "dtype: int64"
      ]
     },
     "execution_count": 3,
     "metadata": {},
     "output_type": "execute_result"
    }
   ],
   "source": [
    "# Mengecek Data Kosong\n",
    "df.isna().sum()"
   ]
  },
  {
   "cell_type": "markdown",
   "metadata": {},
   "source": [
    "## **Feature Selection**"
   ]
  },
  {
   "cell_type": "code",
   "execution_count": 4,
   "metadata": {},
   "outputs": [
    {
     "data": {
      "image/png": "[encoded data removed]",
      "text/plain": [
       "<Figure size 1080x576 with 2 Axes>"
      ]
     },
     "metadata": {
      "needs_background": "light"
     },
     "output_type": "display_data"
    }
   ],
   "source": [
    "# Melihat Nilai Korelasi Antar Variable Dengan Heatmap\n",
    "plt.figure(figsize=(15, 8))\n",
    "mask = np.triu(np.ones_like(df.corr(), dtype=np.bool))\n",
    "heatmap = sns.heatmap(df.corr(), mask=mask, annot=True, cmap='BrBG')\n",
    "heatmap.set_title('Triangle Correlation Heatmap',\n",
    "                  fontdict={'fontsize': 16}, pad=16)\n",
    "plt.show()\n"
   ]
  },
  {
   "cell_type": "code",
   "execution_count": 5,
   "metadata": {},
   "outputs": [
    {
     "data": {
      "text/html": [
       "<div>\n",
       "<style scoped>\n",
       "    .dataframe tbody tr th:only-of-type {\n",
       "        vertical-align: middle;\n",
       "    }\n",
       "\n",
       "    .dataframe tbody tr th {\n",
       "        vertical-align: top;\n",
       "    }\n",
       "\n",
       "    .dataframe thead th {\n",
       "        text-align: right;\n",
       "    }\n",
       "</style>\n",
       "<table border=\"1\" class=\"dataframe\">\n",
       "  <thead>\n",
       "    <tr style=\"text-align: right;\">\n",
       "      <th></th>\n",
       "      <th>Umur</th>\n",
       "      <th>Kanal_Penjualan</th>\n",
       "    </tr>\n",
       "  </thead>\n",
       "  <tbody>\n",
       "    <tr>\n",
       "      <th>0</th>\n",
       "      <td>-0.584630</td>\n",
       "      <td>0.756843</td>\n",
       "    </tr>\n",
       "    <tr>\n",
       "      <th>1</th>\n",
       "      <td>0.604836</td>\n",
       "      <td>-1.571366</td>\n",
       "    </tr>\n",
       "    <tr>\n",
       "      <th>2</th>\n",
       "      <td>-1.179363</td>\n",
       "      <td>0.908271</td>\n",
       "    </tr>\n",
       "    <tr>\n",
       "      <th>3</th>\n",
       "      <td>1.265650</td>\n",
       "      <td>0.226844</td>\n",
       "    </tr>\n",
       "    <tr>\n",
       "      <th>4</th>\n",
       "      <td>0.736999</td>\n",
       "      <td>-0.454583</td>\n",
       "    </tr>\n",
       "  </tbody>\n",
       "</table>\n",
       "</div>"
      ],
      "text/plain": [
       "       Umur  Kanal_Penjualan\n",
       "0 -0.584630         0.756843\n",
       "1  0.604836        -1.571366\n",
       "2 -1.179363         0.908271\n",
       "3  1.265650         0.226844\n",
       "4  0.736999        -0.454583"
      ]
     },
     "execution_count": 5,
     "metadata": {},
     "output_type": "execute_result"
    }
   ],
   "source": [
    "df = df[['Umur', 'Kanal_Penjualan']]\n",
    "df.head()"
   ]
  },
  {
   "cell_type": "code",
   "execution_count": 6,
   "metadata": {},
   "outputs": [
    {
     "name": "stdout",
     "output_type": "stream",
     "text": [
      "Total Data : 285662\n"
     ]
    }
   ],
   "source": [
    "# Mengecek Total Data Pada Dataframe\n",
    "print(\"Total Data :\", len(df))"
   ]
  },
  {
   "cell_type": "markdown",
   "metadata": {},
   "source": [
    "## **K-MEANS Algorithm**"
   ]
  },
  {
   "cell_type": "code",
   "execution_count": 7,
   "metadata": {},
   "outputs": [],
   "source": [
    "# Mendefinisikan Metode Euclidean Untuk Perhitungan Jarak Dari Centroid\n",
    "def euclidean(x, y):\n",
    "    return math.sqrt(sum((x - y)**2))\n",
    "\n",
    "\n",
    "def kmeans(k, max_iter, df):\n",
    "    # Inisialisasi Dictionary Centroid Kemudian Memilih Centroid Secara Random Pada Data\n",
    "    # Sesuai Banyaknya Cluster Yang Didefinisikan\n",
    "    centroid = {i: df[random.randint(0, len(df))] for i in range(k)}\n",
    "    print(\n",
    "        f'Inisialisasi Centroid Random:\\nCluster 0: {centroid.get(0)}, Cluster 1: {centroid.get(1)}, Cluster 2: {centroid.get(2)} \\n')\n",
    "\n",
    "    # Mengcopy Centroid Saat Ini Untuk Acuan Pemberhentian Proses Iterasi Centroid Maksimal\n",
    "    temp_centroid = centroid.copy()\n",
    "\n",
    "    for i in range(max_iter):\n",
    "        # Mendefinisikan Dictionary Cluster Dan Mengisi Setiap Key\n",
    "        # Pada Cluster Berisi Array kosong, contoh : {0: [], 1: [], 2: []}\n",
    "        cluster = {i: [] for i in range(k)}\n",
    "\n",
    "        # Mencari Nilai Terdekat Pada Data Untuk Setiap Centroid Yang Telah Di Definisikan Sebelumnya\n",
    "        # Menggunakan Metode Euclidean Dan Mencari Nilai Minimum Pada Setiap Distance\n",
    "        # Untuk Dimasukkan Kedalam Dictionary Cluster\n",
    "        for x in df:\n",
    "            dist = [euclidean(x, centroid[c]) for c in centroid]\n",
    "            cluster[dist.index(min(dist))].append(x)\n",
    "\n",
    "        # Mencari Nilai Centroid Ulang Dari Setiap Cluster\n",
    "        # Yang Telah Dicari Sebelumnya Menggunakan Mean\n",
    "        for cl in cluster:\n",
    "            centroid[cl] = np.mean(cluster[cl], axis=0)\n",
    "\n",
    "        print(\n",
    "            f'Iterasi Centroid Ke-{i+1}:\\nCluster 0: {centroid.get(0)}, Cluster 1: {centroid.get(1)}, Cluster 2: {centroid.get(2)} \\n')\n",
    "\n",
    "        # Pemberhentian Proses Iterasi Ketika Centroid Saat Ini Sama Dengan Nilai Centroid Sebelumnya\n",
    "        # Dilakukan Dengan Pengecekan Masing-Masing Value Dari Dictionary\n",
    "        if ((temp_centroid.get(0) == centroid.get(0))[0] and\n",
    "            (temp_centroid.get(1) == centroid.get(1))[0] and\n",
    "            (temp_centroid.get(2) == centroid.get(2))[0] and\n",
    "            (temp_centroid.get(3) == centroid.get(3))[0]):\n",
    "            break\n",
    "\n",
    "        # Mengcopy Centroid Yang Telah Berubah Dari Perhitungan Sebelumnya\n",
    "        temp_centroid = centroid.copy()\n",
    "\n",
    "    # Mengembalikan Nilai Dari Variabel Centroid Dan Cluster\n",
    "    return centroid, cluster\n"
   ]
  },
  {
   "cell_type": "markdown",
   "metadata": {},
   "source": [
    "## **Main Program**"
   ]
  },
  {
   "cell_type": "code",
   "execution_count": 8,
   "metadata": {},
   "outputs": [
    {
     "name": "stdout",
     "output_type": "stream",
     "text": [
      "Inisialisasi Centroid Random:\n",
      "Cluster 0: [-1.04720038e+00  2.68990612e-16], Cluster 1: [-0.38638595  0.75684293], Cluster 2: [-0.98111894  0.75684293] \n",
      "\n",
      "Iterasi Centroid Ke-1:\n",
      "Cluster 0: [-0.87700286  0.07819612], Cluster 1: [0.42030071 0.42560117], Cluster 2: [-0.99378317  0.78104391] \n",
      "\n",
      "Iterasi Centroid Ke-2:\n",
      "Cluster 0: [-0.7416458  -0.07119611], Cluster 1: [0.657154   0.36317613], Cluster 2: [-0.9180473   0.78165314] \n",
      "\n",
      "Iterasi Centroid Ke-3:\n",
      "Cluster 0: [-0.6271225  -0.10032846], Cluster 1: [0.72403727 0.36046233], Cluster 2: [-0.90180296  0.78212331] \n",
      "\n",
      "Iterasi Centroid Ke-4:\n",
      "Cluster 0: [-0.47490996 -0.04591889], Cluster 1: [0.80724498 0.36912919], Cluster 2: [-0.89474788  0.78134812] \n",
      "\n",
      "Iterasi Centroid Ke-5:\n",
      "Cluster 0: [-0.35861399 -0.00489294], Cluster 1: [0.96503202 0.3353852 ], Cluster 2: [-0.84589977  0.77659441] \n",
      "\n",
      "Iterasi Centroid Ke-6:\n",
      "Cluster 0: [-0.2227399   0.12943879], Cluster 1: [1.07445449 0.33356597], Cluster 2: [-0.87553567  0.77499059] \n",
      "\n",
      "Iterasi Centroid Ke-7:\n",
      "Cluster 0: [-0.04775861  0.33124394], Cluster 1: [1.19614775 0.32482547], Cluster 2: [-0.91961512  0.75549032] \n",
      "\n",
      "Iterasi Centroid Ke-8:\n",
      "Cluster 0: [0.04944913 0.39039291], Cluster 1: [1.32682469 0.31084839], Cluster 2: [-0.93743807  0.73381653] \n",
      "\n",
      "Iterasi Centroid Ke-9:\n",
      "Cluster 0: [0.10801813 0.39230138], Cluster 1: [1.42997389 0.30476052], Cluster 2: [-0.93442695  0.72712078] \n",
      "\n",
      "Iterasi Centroid Ke-10:\n",
      "Cluster 0: [0.13459243 0.38715378], Cluster 1: [1.49188971 0.3008579 ], Cluster 2: [-0.93316324  0.72734718] \n",
      "\n",
      "Iterasi Centroid Ke-11:\n",
      "Cluster 0: [0.16498742 0.38682053], Cluster 1: [1.53752834 0.29641593], Cluster 2: [-0.92852354  0.72334097] \n",
      "\n",
      "Iterasi Centroid Ke-12:\n",
      "Cluster 0: [0.17939151 0.38256814], Cluster 1: [1.55485807 0.29020771], Cluster 2: [-0.92358476  0.72363322] \n",
      "\n",
      "Iterasi Centroid Ke-13:\n",
      "Cluster 0: [0.18018923 0.38183213], Cluster 1: [1.55537209 0.29001004], Cluster 2: [-0.92311846  0.72374446] \n",
      "\n",
      "Iterasi Centroid Ke-14:\n",
      "Cluster 0: [0.18030602 0.38177389], Cluster 1: [1.55544618 0.29000255], Cluster 2: [-0.92306324  0.72374402] \n",
      "\n",
      "Iterasi Centroid Ke-15:\n",
      "Cluster 0: [0.18030602 0.38177389], Cluster 1: [1.55544618 0.29000255], Cluster 2: [-0.92306324  0.72374402] \n",
      "\n"
     ]
    }
   ],
   "source": [
    "# Merubah DataFrame Menjadi Numpy Array\n",
    "data = df.to_numpy()\n",
    "\n",
    "# Memasukkan Nilai K dan Maksimum Iterasi\n",
    "k = 4\n",
    "max_iter = 100\n",
    "\n",
    "# Memanggil Fungsi kmeans Yang Akan Mengembalikan Nilai Centroid Dan Cluster\n",
    "centroid, cluster = kmeans(k, max_iter, data)"
   ]
  },
  {
   "cell_type": "markdown",
   "metadata": {},
   "source": [
    "## **Hasil Proses Cluster Final**"
   ]
  },
  {
   "cell_type": "code",
   "execution_count": 9,
   "metadata": {},
   "outputs": [
    {
     "data": {
      "text/html": [
       "<div>\n",
       "<style scoped>\n",
       "    .dataframe tbody tr th:only-of-type {\n",
       "        vertical-align: middle;\n",
       "    }\n",
       "\n",
       "    .dataframe tbody tr th {\n",
       "        vertical-align: top;\n",
       "    }\n",
       "\n",
       "    .dataframe thead th {\n",
       "        text-align: right;\n",
       "    }\n",
       "</style>\n",
       "<table border=\"1\" class=\"dataframe\">\n",
       "  <thead>\n",
       "    <tr style=\"text-align: right;\">\n",
       "      <th></th>\n",
       "      <th>Umur</th>\n",
       "      <th>Kanal_Penjualan</th>\n",
       "      <th>Cluster</th>\n",
       "    </tr>\n",
       "  </thead>\n",
       "  <tbody>\n",
       "    <tr>\n",
       "      <th>240953</th>\n",
       "      <td>-1.047200</td>\n",
       "      <td>-1.628152</td>\n",
       "      <td>3</td>\n",
       "    </tr>\n",
       "    <tr>\n",
       "      <th>75828</th>\n",
       "      <td>2.322953</td>\n",
       "      <td>0.226844</td>\n",
       "      <td>1</td>\n",
       "    </tr>\n",
       "    <tr>\n",
       "      <th>114627</th>\n",
       "      <td>-0.848956</td>\n",
       "      <td>0.756843</td>\n",
       "      <td>2</td>\n",
       "    </tr>\n",
       "    <tr>\n",
       "      <th>48168</th>\n",
       "      <td>0.340510</td>\n",
       "      <td>0.226844</td>\n",
       "      <td>0</td>\n",
       "    </tr>\n",
       "    <tr>\n",
       "      <th>243175</th>\n",
       "      <td>0.142266</td>\n",
       "      <td>-1.628152</td>\n",
       "      <td>3</td>\n",
       "    </tr>\n",
       "    <tr>\n",
       "      <th>271634</th>\n",
       "      <td>2.058627</td>\n",
       "      <td>-1.628152</td>\n",
       "      <td>3</td>\n",
       "    </tr>\n",
       "    <tr>\n",
       "      <th>69166</th>\n",
       "      <td>0.935243</td>\n",
       "      <td>0.226844</td>\n",
       "      <td>1</td>\n",
       "    </tr>\n",
       "    <tr>\n",
       "      <th>72404</th>\n",
       "      <td>2.256872</td>\n",
       "      <td>0.226844</td>\n",
       "      <td>1</td>\n",
       "    </tr>\n",
       "  </tbody>\n",
       "</table>\n",
       "</div>"
      ],
      "text/plain": [
       "            Umur  Kanal_Penjualan  Cluster\n",
       "240953 -1.047200        -1.628152        3\n",
       "75828   2.322953         0.226844        1\n",
       "114627 -0.848956         0.756843        2\n",
       "48168   0.340510         0.226844        0\n",
       "243175  0.142266        -1.628152        3\n",
       "271634  2.058627        -1.628152        3\n",
       "69166   0.935243         0.226844        1\n",
       "72404   2.256872         0.226844        1"
      ]
     },
     "execution_count": 9,
     "metadata": {},
     "output_type": "execute_result"
    }
   ],
   "source": [
    "# Inisialisasi Array Untuk Dat Cluster\n",
    "df = []\n",
    "\n",
    "# Melakukan Perulangan Untuk Setiap Key Pada Data\n",
    "# Hasil Proses K-Means Untuk Diinputkan Kedalam Array Cluster (df)\n",
    "for key in cluster.keys():\n",
    "    for c in cluster.get(key):\n",
    "        df.append((c[0], c[1], key))\n",
    "\n",
    "# Set Array df menjadi dataframe, Menamakan nama kolom dan menampilkannya\n",
    "df = pd.DataFrame(df)\n",
    "df.columns = ['Umur', 'Kanal_Penjualan', 'Cluster']\n",
    "df.sample(8)"
   ]
  },
  {
   "cell_type": "code",
   "execution_count": 10,
   "metadata": {},
   "outputs": [
    {
     "name": "stdout",
     "output_type": "stream",
     "text": [
      "Centroid 1 : [0.18030602 0.38177389]\n",
      "Centroid 2 : [1.55544618 0.29000255]\n",
      "Centroid 3 : [-0.92306324  0.72374402]\n",
      "Centroid 4 : [ 0.76661838 -1.64078949]\n"
     ]
    }
   ],
   "source": [
    "# Menampilkan Letak Seluruh Centroids\n",
    "for i in range(k):\n",
    "    print(f'Centroid {i+1} :', centroid[i])"
   ]
  },
  {
   "cell_type": "code",
   "execution_count": 11,
   "metadata": {},
   "outputs": [
    {
     "data": {
      "text/html": [
       "<div>\n",
       "<style scoped>\n",
       "    .dataframe tbody tr th:only-of-type {\n",
       "        vertical-align: middle;\n",
       "    }\n",
       "\n",
       "    .dataframe tbody tr th {\n",
       "        vertical-align: top;\n",
       "    }\n",
       "\n",
       "    .dataframe thead th {\n",
       "        text-align: right;\n",
       "    }\n",
       "</style>\n",
       "<table border=\"1\" class=\"dataframe\">\n",
       "  <thead>\n",
       "    <tr style=\"text-align: right;\">\n",
       "      <th></th>\n",
       "      <th>Cluster 1</th>\n",
       "      <th>Cluster 2</th>\n",
       "      <th>Cluster 3</th>\n",
       "      <th>Cluster 4</th>\n",
       "    </tr>\n",
       "  </thead>\n",
       "  <tbody>\n",
       "    <tr>\n",
       "      <th>62968</th>\n",
       "      <td>[0.0, 0.9082711813596004]</td>\n",
       "      <td>NaN</td>\n",
       "      <td>[-0.7828746095263087, 0.7568429288465965]</td>\n",
       "      <td>[-0.1220601762927862, -1.6281520482332132]</td>\n",
       "    </tr>\n",
       "    <tr>\n",
       "      <th>94417</th>\n",
       "      <td>NaN</td>\n",
       "      <td>NaN</td>\n",
       "      <td>[-1.11328182614307, 0.7568429288465965]</td>\n",
       "      <td>NaN</td>\n",
       "    </tr>\n",
       "    <tr>\n",
       "      <th>66611</th>\n",
       "      <td>NaN</td>\n",
       "      <td>NaN</td>\n",
       "      <td>[-0.9150374961730132, 0.7568429288465965]</td>\n",
       "      <td>[0.4065913702940317, -1.9499370848233464]</td>\n",
       "    </tr>\n",
       "    <tr>\n",
       "      <th>39636</th>\n",
       "      <td>[0.3405099269706794, 0.2268440450510833]</td>\n",
       "      <td>NaN</td>\n",
       "      <td>[-0.320304506262843, 0.7568429288465965]</td>\n",
       "      <td>[1.001324360204202, -1.6281520482332132]</td>\n",
       "    </tr>\n",
       "    <tr>\n",
       "      <th>100574</th>\n",
       "      <td>NaN</td>\n",
       "      <td>NaN</td>\n",
       "      <td>[-1.11328182614307, 0.7568429288465965]</td>\n",
       "      <td>NaN</td>\n",
       "    </tr>\n",
       "    <tr>\n",
       "      <th>103510</th>\n",
       "      <td>NaN</td>\n",
       "      <td>NaN</td>\n",
       "      <td>[-0.9150374961730132, 0.7568429288465965]</td>\n",
       "      <td>NaN</td>\n",
       "    </tr>\n",
       "    <tr>\n",
       "      <th>42719</th>\n",
       "      <td>[-0.055978732969434, 2.6899061202990245e-16]</td>\n",
       "      <td>NaN</td>\n",
       "      <td>[-0.7167931662029564, 0.9082711813596004]</td>\n",
       "      <td>[-0.055978732969434, -1.9877941479515973]</td>\n",
       "    </tr>\n",
       "    <tr>\n",
       "      <th>50081</th>\n",
       "      <td>[-0.055978732969434, 0.1889869819228323]</td>\n",
       "      <td>NaN</td>\n",
       "      <td>[-1.11328182614307, 0.7568429288465965]</td>\n",
       "      <td>[0.4065913702940317, -1.6281520482332132]</td>\n",
       "    </tr>\n",
       "  </tbody>\n",
       "</table>\n",
       "</div>"
      ],
      "text/plain": [
       "                                           Cluster 1 Cluster 2  \\\n",
       "62968                      [0.0, 0.9082711813596004]       NaN   \n",
       "94417                                            NaN       NaN   \n",
       "66611                                            NaN       NaN   \n",
       "39636       [0.3405099269706794, 0.2268440450510833]       NaN   \n",
       "100574                                           NaN       NaN   \n",
       "103510                                           NaN       NaN   \n",
       "42719   [-0.055978732969434, 2.6899061202990245e-16]       NaN   \n",
       "50081       [-0.055978732969434, 0.1889869819228323]       NaN   \n",
       "\n",
       "                                        Cluster 3  \\\n",
       "62968   [-0.7828746095263087, 0.7568429288465965]   \n",
       "94417     [-1.11328182614307, 0.7568429288465965]   \n",
       "66611   [-0.9150374961730132, 0.7568429288465965]   \n",
       "39636    [-0.320304506262843, 0.7568429288465965]   \n",
       "100574    [-1.11328182614307, 0.7568429288465965]   \n",
       "103510  [-0.9150374961730132, 0.7568429288465965]   \n",
       "42719   [-0.7167931662029564, 0.9082711813596004]   \n",
       "50081     [-1.11328182614307, 0.7568429288465965]   \n",
       "\n",
       "                                         Cluster 4  \n",
       "62968   [-0.1220601762927862, -1.6281520482332132]  \n",
       "94417                                          NaN  \n",
       "66611    [0.4065913702940317, -1.9499370848233464]  \n",
       "39636     [1.001324360204202, -1.6281520482332132]  \n",
       "100574                                         NaN  \n",
       "103510                                         NaN  \n",
       "42719    [-0.055978732969434, -1.9877941479515973]  \n",
       "50081    [0.4065913702940317, -1.6281520482332132]  "
      ]
     },
     "execution_count": 11,
     "metadata": {},
     "output_type": "execute_result"
    }
   ],
   "source": [
    "# Memetakkan Nilai X Dan Y Untuk Setiap Data Pada Dictionary Cluster\n",
    "clusterize = pd.DataFrame(dict([(k, pd.Series(v)) for k, v in cluster.items()]))\n",
    "\n",
    "# Membuat Nama Kolom Cluster Berdasarkan Jumlah Cluster Pada Clusterize\n",
    "col = []\n",
    "for i in range(len(clusterize.columns)):\n",
    "    col.append('Cluster ' + str(i + 1))\n",
    "\n",
    "# Melakukan Set Nama Kolom Dan Menampilkan Sample Data Cluster\n",
    "clusterize.columns = col\n",
    "clusterize.sample(8)\n"
   ]
  },
  {
   "cell_type": "markdown",
   "metadata": {},
   "source": [
    "## **Visualisasi Cluster**"
   ]
  },
  {
   "cell_type": "code",
   "execution_count": 12,
   "metadata": {},
   "outputs": [
    {
     "data": {
      "image/png": "[encoded data removed]",
      "text/plain": [
       "<Figure size 576x576 with 1 Axes>"
      ]
     },
     "metadata": {
      "needs_background": "light"
     },
     "output_type": "display_data"
    }
   ],
   "source": [
    "# Set Warna Setiap CLuster\n",
    "colors = ['r', 'g', '#0080ff', '#e69500', '#e89500']\n",
    "\n",
    "# Set Ukuran Dan Judul Plot\n",
    "plt.figure(figsize=(8, 8))\n",
    "plt.title('Data Clustering Result')\n",
    "\n",
    "# Melakukan Looping Setiap Titik Data Dan Centroid\n",
    "for i in range(k):\n",
    "    plt.scatter(\n",
    "        df['Umur'][df['Cluster'] == i], \n",
    "        df['Kanal_Penjualan'][df['Cluster'] == i],\n",
    "        color=colors[i],\n",
    "        label=f'Cluster {i}'\n",
    "    )\n",
    "\n",
    "    plt.scatter(centroid[i][0], centroid[i][1], color='k', marker='P')\n",
    "\n",
    "# Acuan Penampilan Label Centroid\n",
    "plt.scatter(centroid[0][0], centroid[0][1], color='k', label=\"Centroids\", marker='P')\n",
    "\n",
    "# Set Nama Label X Dan Y Pada Plot Dan Set Tempat Legend Ditampilkan\n",
    "plt.xlabel(\"Umur\")\n",
    "plt.ylabel(\"Kanal Penjualan\")\n",
    "plt.legend(loc='best', bbox_to_anchor=(1, 0.5))\n",
    "plt.show()\n"
   ]
  },
  {
   "cell_type": "markdown",
   "metadata": {},
   "source": [
    "## **Evaluasi Model**"
   ]
  },
  {
   "cell_type": "code",
   "execution_count": 13,
   "metadata": {},
   "outputs": [
    {
     "data": {
      "image/png": "[encoded data removed]",
      "text/plain": [
       "<Figure size 432x288 with 1 Axes>"
      ]
     },
     "metadata": {
      "needs_background": "light"
     },
     "output_type": "display_data"
    }
   ],
   "source": [
    "# Inisialisasi Array Untuk Distortion\n",
    "distortions = []\n",
    "\n",
    "# Inisialisasi Range K\n",
    "K = range(2, 9)\n",
    "\n",
    "# Melakukan Perulangan Untuk Setiap Range\n",
    "for i in K:\n",
    "    # Membangun Dan Fit Dataset\n",
    "    model = KMeans(n_clusters=i).fit(df)\n",
    "    model.fit(df)\n",
    "\n",
    "    # Memasukkan Hasil Dari Jumlah cdist data, cluster_center Ke Array\n",
    "    distortions.append(sum(np.min(cdist(df, model.cluster_centers_, 'euclidean'), axis=1)) / df.shape[0])\n",
    "\n",
    "# Plot data\n",
    "plt.plot(K, distortions, 'bx-')\n",
    "plt.xlabel('Nilai K')\n",
    "plt.ylabel('Distortion')\n",
    "plt.title('Evaluasi Jumlah Cluster Dengan Elbow Method')\n",
    "plt.show()"
   ]
  }
 ],
 "metadata": {
  "interpreter": {
   "hash": "2bf746931fd58f1246b6df4740a30aa94cbb7406c646ac7ef817c7ae9c273626"
  },
  "kernelspec": {
   "display_name": "Python 3.9.0 64-bit",
   "name": "python3"
  },
  "language_info": {
   "codemirror_mode": {
    "name": "ipython",
    "version": 3
   },
   "file_extension": ".py",
   "mimetype": "text/x-python",
   "name": "python",
   "nbconvert_exporter": "python",
   "pygments_lexer": "ipython3",
   "version": "3.9.0"
  },
  "orig_nbformat": 4
 },
 "nbformat": 4,
 "nbformat_minor": 2
}
