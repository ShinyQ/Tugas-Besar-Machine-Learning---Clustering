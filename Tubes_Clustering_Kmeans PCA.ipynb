{
 "cells": [
  {
   "cell_type": "code",
   "execution_count": 1,
   "metadata": {},
   "outputs": [],
   "source": [
    "from scipy.spatial.distance import cdist\n",
    "from sklearn.cluster import KMeans\n",
    "\n",
    "import matplotlib.pyplot as plt\n",
    "import pandas as pd\n",
    "import numpy as np\n",
    "import random\n",
    "import math"
   ]
  },
  {
   "cell_type": "code",
   "execution_count": 2,
   "metadata": {},
   "outputs": [
    {
     "data": {
      "text/html": [
       "<div>\n",
       "<style scoped>\n",
       "    .dataframe tbody tr th:only-of-type {\n",
       "        vertical-align: middle;\n",
       "    }\n",
       "\n",
       "    .dataframe tbody tr th {\n",
       "        vertical-align: top;\n",
       "    }\n",
       "\n",
       "    .dataframe thead th {\n",
       "        text-align: right;\n",
       "    }\n",
       "</style>\n",
       "<table border=\"1\" class=\"dataframe\">\n",
       "  <thead>\n",
       "    <tr style=\"text-align: right;\">\n",
       "      <th></th>\n",
       "      <th>Component_1</th>\n",
       "      <th>Component_2</th>\n",
       "      <th>Tertarik</th>\n",
       "    </tr>\n",
       "  </thead>\n",
       "  <tbody>\n",
       "    <tr>\n",
       "      <th>112841</th>\n",
       "      <td>0.141045</td>\n",
       "      <td>-0.878139</td>\n",
       "      <td>0</td>\n",
       "    </tr>\n",
       "    <tr>\n",
       "      <th>183382</th>\n",
       "      <td>-2.324607</td>\n",
       "      <td>0.351695</td>\n",
       "      <td>0</td>\n",
       "    </tr>\n",
       "    <tr>\n",
       "      <th>203021</th>\n",
       "      <td>1.601837</td>\n",
       "      <td>-0.613816</td>\n",
       "      <td>1</td>\n",
       "    </tr>\n",
       "    <tr>\n",
       "      <th>243034</th>\n",
       "      <td>0.995821</td>\n",
       "      <td>-0.924337</td>\n",
       "      <td>0</td>\n",
       "    </tr>\n",
       "    <tr>\n",
       "      <th>143392</th>\n",
       "      <td>-0.264203</td>\n",
       "      <td>1.557709</td>\n",
       "      <td>0</td>\n",
       "    </tr>\n",
       "  </tbody>\n",
       "</table>\n",
       "</div>"
      ],
      "text/plain": [
       "        Component_1  Component_2  Tertarik\n",
       "112841     0.141045    -0.878139         0\n",
       "183382    -2.324607     0.351695         0\n",
       "203021     1.601837    -0.613816         1\n",
       "243034     0.995821    -0.924337         0\n",
       "143392    -0.264203     1.557709         0"
      ]
     },
     "execution_count": 2,
     "metadata": {},
     "output_type": "execute_result"
    }
   ],
   "source": [
    "# Menampilkan Sampel Data Dan Melakukan Drop Column Tertarik\n",
    "df = pd.read_csv('../Dataset/kendaraan_train_pca_clean.csv')\n",
    "df.sample(5)"
   ]
  },
  {
   "cell_type": "code",
   "execution_count": 3,
   "metadata": {},
   "outputs": [
    {
     "data": {
      "text/plain": [
       "Component_1    0\n",
       "Component_2    0\n",
       "Tertarik       0\n",
       "dtype: int64"
      ]
     },
     "execution_count": 3,
     "metadata": {},
     "output_type": "execute_result"
    }
   ],
   "source": [
    "# Mengecek Data Kosong\n",
    "df.isna().sum()"
   ]
  },
  {
   "cell_type": "markdown",
   "metadata": {},
   "source": [
    "## **Feature Selection**"
   ]
  },
  {
   "cell_type": "code",
   "execution_count": 4,
   "metadata": {},
   "outputs": [
    {
     "data": {
      "text/html": [
       "<div>\n",
       "<style scoped>\n",
       "    .dataframe tbody tr th:only-of-type {\n",
       "        vertical-align: middle;\n",
       "    }\n",
       "\n",
       "    .dataframe tbody tr th {\n",
       "        vertical-align: top;\n",
       "    }\n",
       "\n",
       "    .dataframe thead th {\n",
       "        text-align: right;\n",
       "    }\n",
       "</style>\n",
       "<table border=\"1\" class=\"dataframe\">\n",
       "  <thead>\n",
       "    <tr style=\"text-align: right;\">\n",
       "      <th></th>\n",
       "      <th>Component_1</th>\n",
       "      <th>Component_2</th>\n",
       "    </tr>\n",
       "  </thead>\n",
       "  <tbody>\n",
       "    <tr>\n",
       "      <th>0</th>\n",
       "      <td>-2.162936</td>\n",
       "      <td>0.330564</td>\n",
       "    </tr>\n",
       "    <tr>\n",
       "      <th>1</th>\n",
       "      <td>3.149257</td>\n",
       "      <td>0.300974</td>\n",
       "    </tr>\n",
       "    <tr>\n",
       "      <th>2</th>\n",
       "      <td>-2.283908</td>\n",
       "      <td>0.267602</td>\n",
       "    </tr>\n",
       "    <tr>\n",
       "      <th>3</th>\n",
       "      <td>0.633128</td>\n",
       "      <td>0.129323</td>\n",
       "    </tr>\n",
       "    <tr>\n",
       "      <th>4</th>\n",
       "      <td>2.348830</td>\n",
       "      <td>0.616102</td>\n",
       "    </tr>\n",
       "  </tbody>\n",
       "</table>\n",
       "</div>"
      ],
      "text/plain": [
       "   Component_1  Component_2\n",
       "0    -2.162936     0.330564\n",
       "1     3.149257     0.300974\n",
       "2    -2.283908     0.267602\n",
       "3     0.633128     0.129323\n",
       "4     2.348830     0.616102"
      ]
     },
     "execution_count": 4,
     "metadata": {},
     "output_type": "execute_result"
    }
   ],
   "source": [
    "df = df[['Component_1', 'Component_2']]\n",
    "df.head()"
   ]
  },
  {
   "cell_type": "code",
   "execution_count": 5,
   "metadata": {},
   "outputs": [
    {
     "name": "stdout",
     "output_type": "stream",
     "text": [
      "Total Data : 285662\n"
     ]
    }
   ],
   "source": [
    "# Mengecek Total Data Pada Dataframe\n",
    "print(\"Total Data :\", len(df))"
   ]
  },
  {
   "cell_type": "markdown",
   "metadata": {},
   "source": [
    "## **K-MEANS Algorithm**"
   ]
  },
  {
   "cell_type": "code",
   "execution_count": 6,
   "metadata": {},
   "outputs": [],
   "source": [
    "# Mendefinisikan Metode Euclidean Untuk Perhitungan Jarak Dari Centroid\n",
    "def euclidean(x, y):\n",
    "    return math.sqrt(sum((x - y)**2))\n",
    "\n",
    "\n",
    "def kmeans(k, max_iter, df):\n",
    "    # Inisialisasi Dictionary Centroid Kemudian Memilih Centroid Secara Random Pada Data\n",
    "    # Sesuai Banyaknya Cluster Yang Didefinisikan\n",
    "    centroid = {i: df[random.randint(0, len(df))] for i in range(k)}\n",
    "    print(\n",
    "        f'Inisialisasi Centroid Random:\\nCluster 0: {centroid.get(0)}, Cluster 1: {centroid.get(1)}, Cluster 2: {centroid.get(2)} \\n')\n",
    "\n",
    "    # Mengcopy Centroid Saat Ini Untuk Acuan Pemberhentian Proses Iterasi Centroid Maksimal\n",
    "    temp_centroid = centroid.copy()\n",
    "\n",
    "    for i in range(max_iter):\n",
    "        # Mendefinisikan Dictionary Cluster Dan Mengisi Setiap Key\n",
    "        # Pada Cluster Berisi Array kosong, contoh : {0: [], 1: [], 2: []}\n",
    "        cluster = {i: [] for i in range(k)}\n",
    "\n",
    "        # Mencari Nilai Terdekat Pada Data Untuk Setiap Centroid Yang Telah Di Definisikan Sebelumnya\n",
    "        # Menggunakan Metode Euclidean Dan Mencari Nilai Minimum Pada Setiap Distance\n",
    "        # Untuk Dimasukkan Kedalam Dictionary Cluster\n",
    "        for x in df:\n",
    "            dist = [euclidean(x, centroid[c]) for c in centroid]\n",
    "            cluster[dist.index(min(dist))].append(x)\n",
    "\n",
    "        # Mencari Nilai Centroid Ulang Dari Setiap Cluster\n",
    "        # Yang Telah Dicari Sebelumnya Menggunakan Mean\n",
    "        for cl in cluster:\n",
    "            centroid[cl] = np.mean(cluster[cl], axis=0)\n",
    "\n",
    "        print(\n",
    "            f'Iterasi Centroid Ke-{i+1}:\\nCluster 0: {centroid.get(0)}, Cluster 1: {centroid.get(1)}, Cluster 2: {centroid.get(2)} \\n')\n",
    "\n",
    "        # Pemberhentian Proses Iterasi Ketika Centroid Saat Ini Sama Dengan Nilai Centroid Sebelumnya\n",
    "        # Dilakukan Dengan Pengecekan Masing-Masing Value Dari Dictionary\n",
    "        if ((temp_centroid.get(0) == centroid.get(0))[0] and\n",
    "            (temp_centroid.get(1) == centroid.get(1))[0] and\n",
    "            (temp_centroid.get(2) == centroid.get(2))[0] and\n",
    "            (temp_centroid.get(3) == centroid.get(3))[0]):\n",
    "            break\n",
    "\n",
    "        # Mengcopy Centroid Yang Telah Berubah Dari Perhitungan Sebelumnya\n",
    "        temp_centroid = centroid.copy()\n",
    "\n",
    "    # Mengembalikan Nilai Dari Variabel Centroid Dan Cluster\n",
    "    return centroid, cluster"
   ]
  },
  {
   "cell_type": "markdown",
   "metadata": {},
   "source": [
    "## **Main Program**"
   ]
  },
  {
   "cell_type": "code",
   "execution_count": 7,
   "metadata": {},
   "outputs": [
    {
     "name": "stdout",
     "output_type": "stream",
     "text": [
      "Inisialisasi Centroid Random:\n",
      "Cluster 0: [0.84294928 0.65289393], Cluster 1: [0.52022811 2.27977376], Cluster 2: [-0.52129972  0.98075203] \n",
      "\n",
      "Iterasi Centroid Ke-1:\n",
      "Cluster 0: [ 1.43790728 -0.43924441], Cluster 1: [0.64863333 2.24750442], Cluster 2: [-0.53094693  1.03369236] \n",
      "\n",
      "Iterasi Centroid Ke-2:\n",
      "Cluster 0: [ 1.55646168 -0.46886928], Cluster 1: [0.79097766 2.10783317], Cluster 2: [-0.49610585  1.04516704] \n",
      "\n",
      "Iterasi Centroid Ke-3:\n",
      "Cluster 0: [ 1.61738716 -0.4582753 ], Cluster 1: [0.83309155 2.06378964], Cluster 2: [-0.472297   1.0319124] \n",
      "\n",
      "Iterasi Centroid Ke-4:\n",
      "Cluster 0: [ 1.63772896 -0.45337895], Cluster 1: [0.84175744 2.05556425], Cluster 2: [-0.46243455  1.02497724] \n",
      "\n",
      "Iterasi Centroid Ke-5:\n",
      "Cluster 0: [ 1.64321559 -0.45219921], Cluster 1: [0.84265271 2.05499829], Cluster 2: [-0.45766699  1.02192175] \n",
      "\n",
      "Iterasi Centroid Ke-6:\n",
      "Cluster 0: [ 1.64489804 -0.45167816], Cluster 1: [0.84245184 2.05525433], Cluster 2: [-0.45516533  1.02091605] \n",
      "\n",
      "Iterasi Centroid Ke-7:\n",
      "Cluster 0: [ 1.64535596 -0.45161945], Cluster 1: [0.84248522 2.05568508], Cluster 2: [-0.45371757  1.02049374] \n",
      "\n",
      "Iterasi Centroid Ke-8:\n",
      "Cluster 0: [ 1.6454716  -0.45155128], Cluster 1: [0.84264027 2.05589932], Cluster 2: [-0.45287063  1.02057173] \n",
      "\n",
      "Iterasi Centroid Ke-9:\n",
      "Cluster 0: [ 1.64552501 -0.45158394], Cluster 1: [0.84290151 2.05621778], Cluster 2: [-0.4518879   1.02075022] \n",
      "\n",
      "Iterasi Centroid Ke-10:\n",
      "Cluster 0: [ 1.64554046 -0.45160277], Cluster 1: [0.84311006 2.0564559 ], Cluster 2: [-0.45109859  1.02093442] \n",
      "\n",
      "Iterasi Centroid Ke-11:\n",
      "Cluster 0: [ 1.64554046 -0.45160277], Cluster 1: [0.84328177 2.0566493 ], Cluster 2: [-0.45067363  1.02109581] \n",
      "\n",
      "Iterasi Centroid Ke-12:\n",
      "Cluster 0: [ 1.64553653 -0.45161913], Cluster 1: [0.84346769 2.05677069], Cluster 2: [-0.4503494   1.02125124] \n",
      "\n",
      "Iterasi Centroid Ke-13:\n",
      "Cluster 0: [ 1.645554   -0.45163505], Cluster 1: [0.84360407 2.05691766], Cluster 2: [-0.45006174  1.02133597] \n",
      "\n",
      "Iterasi Centroid Ke-14:\n",
      "Cluster 0: [ 1.64554734 -0.45162452], Cluster 1: [0.84368073 2.05709188], Cluster 2: [-0.449896    1.02142881] \n",
      "\n",
      "Iterasi Centroid Ke-15:\n",
      "Cluster 0: [ 1.64555797 -0.4516298 ], Cluster 1: [0.84382826 2.05713432], Cluster 2: [-0.44974385  1.02155506] \n",
      "\n",
      "Iterasi Centroid Ke-16:\n",
      "Cluster 0: [ 1.64555797 -0.4516298 ], Cluster 1: [0.84390572 2.05721895], Cluster 2: [-0.44962356  1.02173688] \n",
      "\n",
      "Iterasi Centroid Ke-17:\n",
      "Cluster 0: [ 1.64555797 -0.4516298 ], Cluster 1: [0.84400279 2.0572791 ], Cluster 2: [-0.44950978  1.0218165 ] \n",
      "\n",
      "Iterasi Centroid Ke-18:\n",
      "Cluster 0: [ 1.64555797 -0.4516298 ], Cluster 1: [0.84400279 2.0572791 ], Cluster 2: [-0.44947341  1.02182362] \n",
      "\n",
      "Iterasi Centroid Ke-19:\n",
      "Cluster 0: [ 1.64555797 -0.4516298 ], Cluster 1: [0.84400279 2.0572791 ], Cluster 2: [-0.44939546  1.02183339] \n",
      "\n",
      "Iterasi Centroid Ke-20:\n",
      "Cluster 0: [ 1.64554251 -0.45164568], Cluster 1: [0.84403594 2.05728304], Cluster 2: [-0.44934806  1.021869  ] \n",
      "\n",
      "Iterasi Centroid Ke-21:\n",
      "Cluster 0: [ 1.64554251 -0.45164568], Cluster 1: [0.84403751 2.05732642], Cluster 2: [-0.44927188  1.02186848] \n",
      "\n",
      "Iterasi Centroid Ke-22:\n",
      "Cluster 0: [ 1.64554251 -0.45164568], Cluster 1: [0.84406489 2.05733757], Cluster 2: [-0.44925627  1.02189094] \n",
      "\n",
      "Iterasi Centroid Ke-23:\n",
      "Cluster 0: [ 1.64554251 -0.45164568], Cluster 1: [0.84409715 2.05734262], Cluster 2: [-0.44924517  1.02191905] \n",
      "\n",
      "Iterasi Centroid Ke-24:\n",
      "Cluster 0: [ 1.64554251 -0.45164568], Cluster 1: [0.84409715 2.05734262], Cluster 2: [-0.44924517  1.02191905] \n",
      "\n"
     ]
    }
   ],
   "source": [
    "# Merubah DataFrame Menjadi Numpy Array\n",
    "data = df.to_numpy()\n",
    "\n",
    "# Memasukkan Nilai K dan Maksimum Iterasi\n",
    "k = 4\n",
    "max_iter = 100\n",
    "\n",
    "# Memanggil Fungsi kmeans Yang Akan Mengembalikan Nilai Centroid Dan Cluster\n",
    "centroid, cluster = kmeans(k, max_iter, data)"
   ]
  },
  {
   "cell_type": "markdown",
   "metadata": {},
   "source": [
    "## **Hasil Proses Cluster Final**"
   ]
  },
  {
   "cell_type": "code",
   "execution_count": 8,
   "metadata": {},
   "outputs": [
    {
     "data": {
      "text/html": [
       "<div>\n",
       "<style scoped>\n",
       "    .dataframe tbody tr th:only-of-type {\n",
       "        vertical-align: middle;\n",
       "    }\n",
       "\n",
       "    .dataframe tbody tr th {\n",
       "        vertical-align: top;\n",
       "    }\n",
       "\n",
       "    .dataframe thead th {\n",
       "        text-align: right;\n",
       "    }\n",
       "</style>\n",
       "<table border=\"1\" class=\"dataframe\">\n",
       "  <thead>\n",
       "    <tr style=\"text-align: right;\">\n",
       "      <th></th>\n",
       "      <th>Component_1</th>\n",
       "      <th>Component_2</th>\n",
       "      <th>Cluster</th>\n",
       "    </tr>\n",
       "  </thead>\n",
       "  <tbody>\n",
       "    <tr>\n",
       "      <th>72463</th>\n",
       "      <td>1.487695</td>\n",
       "      <td>-0.306563</td>\n",
       "      <td>0</td>\n",
       "    </tr>\n",
       "    <tr>\n",
       "      <th>1723</th>\n",
       "      <td>1.590258</td>\n",
       "      <td>0.619743</td>\n",
       "      <td>0</td>\n",
       "    </tr>\n",
       "    <tr>\n",
       "      <th>261758</th>\n",
       "      <td>-2.018644</td>\n",
       "      <td>0.509687</td>\n",
       "      <td>3</td>\n",
       "    </tr>\n",
       "    <tr>\n",
       "      <th>32276</th>\n",
       "      <td>0.716496</td>\n",
       "      <td>-1.354769</td>\n",
       "      <td>0</td>\n",
       "    </tr>\n",
       "    <tr>\n",
       "      <th>274047</th>\n",
       "      <td>-0.369229</td>\n",
       "      <td>-2.072452</td>\n",
       "      <td>3</td>\n",
       "    </tr>\n",
       "    <tr>\n",
       "      <th>50140</th>\n",
       "      <td>1.472747</td>\n",
       "      <td>-0.991754</td>\n",
       "      <td>0</td>\n",
       "    </tr>\n",
       "    <tr>\n",
       "      <th>260270</th>\n",
       "      <td>-2.455983</td>\n",
       "      <td>0.113647</td>\n",
       "      <td>3</td>\n",
       "    </tr>\n",
       "    <tr>\n",
       "      <th>180755</th>\n",
       "      <td>-1.906705</td>\n",
       "      <td>-0.427604</td>\n",
       "      <td>3</td>\n",
       "    </tr>\n",
       "    <tr>\n",
       "      <th>92992</th>\n",
       "      <td>1.660619</td>\n",
       "      <td>-0.875858</td>\n",
       "      <td>0</td>\n",
       "    </tr>\n",
       "    <tr>\n",
       "      <th>219964</th>\n",
       "      <td>-1.891891</td>\n",
       "      <td>-0.296354</td>\n",
       "      <td>3</td>\n",
       "    </tr>\n",
       "  </tbody>\n",
       "</table>\n",
       "</div>"
      ],
      "text/plain": [
       "        Component_1  Component_2  Cluster\n",
       "72463      1.487695    -0.306563        0\n",
       "1723       1.590258     0.619743        0\n",
       "261758    -2.018644     0.509687        3\n",
       "32276      0.716496    -1.354769        0\n",
       "274047    -0.369229    -2.072452        3\n",
       "50140      1.472747    -0.991754        0\n",
       "260270    -2.455983     0.113647        3\n",
       "180755    -1.906705    -0.427604        3\n",
       "92992      1.660619    -0.875858        0\n",
       "219964    -1.891891    -0.296354        3"
      ]
     },
     "execution_count": 8,
     "metadata": {},
     "output_type": "execute_result"
    }
   ],
   "source": [
    "# Inisialisasi Array Untuk Dat Cluster\n",
    "df = []\n",
    "\n",
    "# Melakukan Perulangan Untuk Setiap Key Pada Data\n",
    "# Hasil Proses K-Means Untuk Diinputkan Kedalam Array Cluster (df)\n",
    "for key in cluster.keys():\n",
    "    for c in cluster.get(key):\n",
    "        df.append((c[0], c[1], key))\n",
    "\n",
    "# Set Array df menjadi dataframe, Menamakan nama kolom dan menampilkannya\n",
    "df = pd.DataFrame(df)\n",
    "df.columns = ['Component_1', 'Component_2', 'Cluster']\n",
    "df.sample(10)"
   ]
  },
  {
   "cell_type": "code",
   "execution_count": 9,
   "metadata": {},
   "outputs": [
    {
     "name": "stdout",
     "output_type": "stream",
     "text": [
      "Centroid 1 : [ 1.64554251 -0.45164568]\n",
      "Centroid 2 : [0.84409715 2.05734262]\n",
      "Centroid 3 : [-0.44924517  1.02191905]\n",
      "Centroid 4 : [-1.64488532 -0.37262449]\n"
     ]
    }
   ],
   "source": [
    "# Menampilkan Letak Seluruh Centroids\n",
    "for i in range(k):\n",
    "    print(f'Centroid {i+1} :', centroid[i])"
   ]
  },
  {
   "cell_type": "code",
   "execution_count": 10,
   "metadata": {},
   "outputs": [
    {
     "data": {
      "text/html": [
       "<div>\n",
       "<style scoped>\n",
       "    .dataframe tbody tr th:only-of-type {\n",
       "        vertical-align: middle;\n",
       "    }\n",
       "\n",
       "    .dataframe tbody tr th {\n",
       "        vertical-align: top;\n",
       "    }\n",
       "\n",
       "    .dataframe thead th {\n",
       "        text-align: right;\n",
       "    }\n",
       "</style>\n",
       "<table border=\"1\" class=\"dataframe\">\n",
       "  <thead>\n",
       "    <tr style=\"text-align: right;\">\n",
       "      <th></th>\n",
       "      <th>Cluster 1</th>\n",
       "      <th>Cluster 2</th>\n",
       "      <th>Cluster 3</th>\n",
       "      <th>Cluster 4</th>\n",
       "    </tr>\n",
       "  </thead>\n",
       "  <tbody>\n",
       "    <tr>\n",
       "      <th>104979</th>\n",
       "      <td>[2.356558657840567, 0.3194549739366731]</td>\n",
       "      <td>NaN</td>\n",
       "      <td>NaN</td>\n",
       "      <td>[-0.1170264733375614, -1.5978001439381948]</td>\n",
       "    </tr>\n",
       "    <tr>\n",
       "      <th>198</th>\n",
       "      <td>[2.1110889967105235, -0.0807736779471041]</td>\n",
       "      <td>[1.1901454413258, 2.984040667771902]</td>\n",
       "      <td>[-0.894303647484385, 0.7810751352024815]</td>\n",
       "      <td>[-0.2891162291062236, -0.6168908233492336]</td>\n",
       "    </tr>\n",
       "    <tr>\n",
       "      <th>42653</th>\n",
       "      <td>[1.2711373409197455, -0.8684327840739587]</td>\n",
       "      <td>NaN</td>\n",
       "      <td>NaN</td>\n",
       "      <td>[-2.122352254310125, 0.2552558470903325]</td>\n",
       "    </tr>\n",
       "    <tr>\n",
       "      <th>24438</th>\n",
       "      <td>[0.8698244103290118, -1.4931644237687085]</td>\n",
       "      <td>[3.783061650326351, 1.976046833454599]</td>\n",
       "      <td>[-0.205195884505853, 1.750217498325697]</td>\n",
       "      <td>[-0.6967097714131416, -1.9311159637878756]</td>\n",
       "    </tr>\n",
       "    <tr>\n",
       "      <th>53390</th>\n",
       "      <td>[3.650099380919155, 0.7983912430473223]</td>\n",
       "      <td>NaN</td>\n",
       "      <td>NaN</td>\n",
       "      <td>[-2.2276049778648463, 0.288848987190788]</td>\n",
       "    </tr>\n",
       "    <tr>\n",
       "      <th>72105</th>\n",
       "      <td>[0.9151608211823692, -0.9793818837175672]</td>\n",
       "      <td>NaN</td>\n",
       "      <td>NaN</td>\n",
       "      <td>[-2.1776089788911874, 0.309463609952006]</td>\n",
       "    </tr>\n",
       "    <tr>\n",
       "      <th>9807</th>\n",
       "      <td>[3.708198970376483, 1.092913117132808]</td>\n",
       "      <td>[1.734549298272059, 1.3332621993761284]</td>\n",
       "      <td>[-1.3919862315805114, 0.6379884092500558]</td>\n",
       "      <td>[-1.9889721509608849, 0.1911770712545405]</td>\n",
       "    </tr>\n",
       "    <tr>\n",
       "      <th>84370</th>\n",
       "      <td>[2.719764602327013, -0.0563385975245515]</td>\n",
       "      <td>NaN</td>\n",
       "      <td>NaN</td>\n",
       "      <td>[-2.225720717645036, 0.3351474120299211]</td>\n",
       "    </tr>\n",
       "  </tbody>\n",
       "</table>\n",
       "</div>"
      ],
      "text/plain": [
       "                                        Cluster 1  \\\n",
       "104979    [2.356558657840567, 0.3194549739366731]   \n",
       "198     [2.1110889967105235, -0.0807736779471041]   \n",
       "42653   [1.2711373409197455, -0.8684327840739587]   \n",
       "24438   [0.8698244103290118, -1.4931644237687085]   \n",
       "53390     [3.650099380919155, 0.7983912430473223]   \n",
       "72105   [0.9151608211823692, -0.9793818837175672]   \n",
       "9807       [3.708198970376483, 1.092913117132808]   \n",
       "84370    [2.719764602327013, -0.0563385975245515]   \n",
       "\n",
       "                                      Cluster 2  \\\n",
       "104979                                      NaN   \n",
       "198        [1.1901454413258, 2.984040667771902]   \n",
       "42653                                       NaN   \n",
       "24438    [3.783061650326351, 1.976046833454599]   \n",
       "53390                                       NaN   \n",
       "72105                                       NaN   \n",
       "9807    [1.734549298272059, 1.3332621993761284]   \n",
       "84370                                       NaN   \n",
       "\n",
       "                                        Cluster 3  \\\n",
       "104979                                        NaN   \n",
       "198      [-0.894303647484385, 0.7810751352024815]   \n",
       "42653                                         NaN   \n",
       "24438     [-0.205195884505853, 1.750217498325697]   \n",
       "53390                                         NaN   \n",
       "72105                                         NaN   \n",
       "9807    [-1.3919862315805114, 0.6379884092500558]   \n",
       "84370                                         NaN   \n",
       "\n",
       "                                         Cluster 4  \n",
       "104979  [-0.1170264733375614, -1.5978001439381948]  \n",
       "198     [-0.2891162291062236, -0.6168908233492336]  \n",
       "42653     [-2.122352254310125, 0.2552558470903325]  \n",
       "24438   [-0.6967097714131416, -1.9311159637878756]  \n",
       "53390     [-2.2276049778648463, 0.288848987190788]  \n",
       "72105     [-2.1776089788911874, 0.309463609952006]  \n",
       "9807     [-1.9889721509608849, 0.1911770712545405]  \n",
       "84370     [-2.225720717645036, 0.3351474120299211]  "
      ]
     },
     "execution_count": 10,
     "metadata": {},
     "output_type": "execute_result"
    }
   ],
   "source": [
    "# Memetakkan Nilai X Dan Y Untuk Setiap Data Pada Dictionary Cluster\n",
    "clusterize = pd.DataFrame(dict([(k, pd.Series(v)) for k, v in cluster.items()]))\n",
    "\n",
    "# Membuat Nama Kolom Cluster Berdasarkan Jumlah Cluster Pada Clusterize\n",
    "col = []\n",
    "for i in range(len(clusterize.columns)):\n",
    "    col.append('Cluster ' + str(i + 1))\n",
    "\n",
    "# Melakukan Set Nama Kolom Dan Menampilkan Sample Data Cluster\n",
    "clusterize.columns = col\n",
    "clusterize.sample(8)\n"
   ]
  },
  {
   "cell_type": "markdown",
   "metadata": {},
   "source": [
    "## **Visualisasi Cluster**"
   ]
  },
  {
   "cell_type": "code",
   "execution_count": 11,
   "metadata": {},
   "outputs": [
    {
     "data": {
      "image/png": "[encoded data removed]",
      "text/plain": [
       "<Figure size 576x576 with 1 Axes>"
      ]
     },
     "metadata": {
      "needs_background": "light"
     },
     "output_type": "display_data"
    }
   ],
   "source": [
    "# Set Warna Setiap CLuster\n",
    "colors = ['r', 'g', '#0080ff', '#e69500', '#e89500']\n",
    "\n",
    "# Set Ukuran Dan Judul Plot\n",
    "plt.figure(figsize=(8, 8))\n",
    "plt.title('Data Clustering Result')\n",
    "\n",
    "# Melakukan Looping Setiap Titik Data Dan Centroid\n",
    "for i in range(k):\n",
    "    plt.scatter(\n",
    "        df['Component_1'][df['Cluster'] == i], \n",
    "        df['Component_2'][df['Cluster'] == i],\n",
    "        color=colors[i],\n",
    "        label=f'Cluster {i}'\n",
    "    )\n",
    "\n",
    "    plt.scatter(centroid[i][0], centroid[i][1], color='k', marker='P')\n",
    "\n",
    "# Acuan Penampilan Label Centroid\n",
    "plt.scatter(centroid[0][0], centroid[0][1], color='k', label=\"Centroids\", marker='P')\n",
    "\n",
    "# Set Nama Label X Dan Y Pada Plot Dan Set Tempat Legend Ditampilkan\n",
    "plt.xlabel(\"Component 1\")\n",
    "plt.ylabel(\"Component 2\")\n",
    "plt.legend(loc='best', bbox_to_anchor=(1, 0.5))\n",
    "plt.show()\n"
   ]
  },
  {
   "cell_type": "markdown",
   "metadata": {},
   "source": [
    "## **Evaluasi Model**"
   ]
  },
  {
   "cell_type": "code",
   "execution_count": 12,
   "metadata": {},
   "outputs": [
    {
     "data": {
      "image/png": "[encoded data removed]",
      "text/plain": [
       "<Figure size 432x288 with 1 Axes>"
      ]
     },
     "metadata": {
      "needs_background": "light"
     },
     "output_type": "display_data"
    }
   ],
   "source": [
    "# Inisialisasi Array Untuk Distortion\n",
    "distortions = []\n",
    "\n",
    "# Inisialisasi Range K\n",
    "K = range(2, 9)\n",
    "\n",
    "# Melakukan Perulangan Untuk Setiap Range\n",
    "for i in K:\n",
    "    # Membangun Dan Fit Dataset\n",
    "    model = KMeans(n_clusters=i).fit(df)\n",
    "    model.fit(df)\n",
    "\n",
    "    # Memasukkan Hasil Dari Jumlah cdist data, cluster_center Ke Array\n",
    "    distortions.append(sum(np.min(cdist(df, model.cluster_centers_, 'euclidean'), axis=1)) / df.shape[0])\n",
    "\n",
    "# Plot data\n",
    "plt.plot(K, distortions, 'bx-')\n",
    "plt.xlabel('Nilai K')\n",
    "plt.ylabel('Distortion')\n",
    "plt.title('Evaluasi Jumlah Cluster Dengan Elbow Method')\n",
    "plt.show()"
   ]
  }
 ],
 "metadata": {
  "interpreter": {
   "hash": "2bf746931fd58f1246b6df4740a30aa94cbb7406c646ac7ef817c7ae9c273626"
  },
  "kernelspec": {
   "display_name": "Python 3.9.0 64-bit",
   "name": "python3"
  },
  "language_info": {
   "codemirror_mode": {
    "name": "ipython",
    "version": 3
   },
   "file_extension": ".py",
   "mimetype": "text/x-python",
   "name": "python",
   "nbconvert_exporter": "python",
   "pygments_lexer": "ipython3",
   "version": "3.9.0"
  },
  "orig_nbformat": 4
 },
 "nbformat": 4,
 "nbformat_minor": 2
}
