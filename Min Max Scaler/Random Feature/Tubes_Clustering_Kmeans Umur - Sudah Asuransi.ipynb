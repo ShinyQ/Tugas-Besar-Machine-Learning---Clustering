{
 "cells": [
  {
   "cell_type": "code",
   "execution_count": 71,
   "metadata": {},
   "outputs": [],
   "source": [
    "from sklearn.metrics import silhouette_score\n",
    "\n",
    "import matplotlib.pyplot as plt\n",
    "import seaborn as sns\n",
    "import pandas as pd\n",
    "import numpy as np\n",
    "import random\n",
    "import math\n"
   ]
  },
  {
   "cell_type": "code",
   "execution_count": 72,
   "metadata": {},
   "outputs": [
    {
     "data": {
      "text/html": [
       "<div>\n",
       "<style scoped>\n",
       "    .dataframe tbody tr th:only-of-type {\n",
       "        vertical-align: middle;\n",
       "    }\n",
       "\n",
       "    .dataframe tbody tr th {\n",
       "        vertical-align: top;\n",
       "    }\n",
       "\n",
       "    .dataframe thead th {\n",
       "        text-align: right;\n",
       "    }\n",
       "</style>\n",
       "<table border=\"1\" class=\"dataframe\">\n",
       "  <thead>\n",
       "    <tr style=\"text-align: right;\">\n",
       "      <th></th>\n",
       "      <th>Jenis_Kelamin</th>\n",
       "      <th>Umur</th>\n",
       "      <th>SIM</th>\n",
       "      <th>Kode_Daerah</th>\n",
       "      <th>Sudah_Asuransi</th>\n",
       "      <th>Umur_Kendaraan</th>\n",
       "      <th>Kendaraan_Rusak</th>\n",
       "      <th>Premi</th>\n",
       "      <th>Kanal_Penjualan</th>\n",
       "      <th>Lama_Berlangganan</th>\n",
       "      <th>Tertarik</th>\n",
       "    </tr>\n",
       "  </thead>\n",
       "  <tbody>\n",
       "    <tr>\n",
       "      <th>134082</th>\n",
       "      <td>0.0</td>\n",
       "      <td>0.184615</td>\n",
       "      <td>1.0</td>\n",
       "      <td>0.346154</td>\n",
       "      <td>0.0</td>\n",
       "      <td>1.0</td>\n",
       "      <td>1.0</td>\n",
       "      <td>0.634770</td>\n",
       "      <td>0.802469</td>\n",
       "      <td>0.193772</td>\n",
       "      <td>0</td>\n",
       "    </tr>\n",
       "    <tr>\n",
       "      <th>88426</th>\n",
       "      <td>1.0</td>\n",
       "      <td>0.692308</td>\n",
       "      <td>1.0</td>\n",
       "      <td>0.788462</td>\n",
       "      <td>0.0</td>\n",
       "      <td>1.0</td>\n",
       "      <td>1.0</td>\n",
       "      <td>0.717741</td>\n",
       "      <td>0.956790</td>\n",
       "      <td>0.688581</td>\n",
       "      <td>0</td>\n",
       "    </tr>\n",
       "    <tr>\n",
       "      <th>157478</th>\n",
       "      <td>0.0</td>\n",
       "      <td>0.246154</td>\n",
       "      <td>1.0</td>\n",
       "      <td>0.153846</td>\n",
       "      <td>0.0</td>\n",
       "      <td>1.0</td>\n",
       "      <td>0.0</td>\n",
       "      <td>0.687548</td>\n",
       "      <td>0.759259</td>\n",
       "      <td>0.602076</td>\n",
       "      <td>0</td>\n",
       "    </tr>\n",
       "    <tr>\n",
       "      <th>161043</th>\n",
       "      <td>1.0</td>\n",
       "      <td>0.630769</td>\n",
       "      <td>1.0</td>\n",
       "      <td>0.538462</td>\n",
       "      <td>0.0</td>\n",
       "      <td>2.0</td>\n",
       "      <td>1.0</td>\n",
       "      <td>0.476548</td>\n",
       "      <td>0.154321</td>\n",
       "      <td>0.546713</td>\n",
       "      <td>0</td>\n",
       "    </tr>\n",
       "    <tr>\n",
       "      <th>139694</th>\n",
       "      <td>1.0</td>\n",
       "      <td>0.015385</td>\n",
       "      <td>1.0</td>\n",
       "      <td>0.326923</td>\n",
       "      <td>1.0</td>\n",
       "      <td>0.0</td>\n",
       "      <td>0.0</td>\n",
       "      <td>0.648626</td>\n",
       "      <td>0.932099</td>\n",
       "      <td>0.499247</td>\n",
       "      <td>0</td>\n",
       "    </tr>\n",
       "  </tbody>\n",
       "</table>\n",
       "</div>"
      ],
      "text/plain": [
       "        Jenis_Kelamin      Umur  SIM  Kode_Daerah  Sudah_Asuransi  \\\n",
       "134082            0.0  0.184615  1.0     0.346154             0.0   \n",
       "88426             1.0  0.692308  1.0     0.788462             0.0   \n",
       "157478            0.0  0.246154  1.0     0.153846             0.0   \n",
       "161043            1.0  0.630769  1.0     0.538462             0.0   \n",
       "139694            1.0  0.015385  1.0     0.326923             1.0   \n",
       "\n",
       "        Umur_Kendaraan  Kendaraan_Rusak     Premi  Kanal_Penjualan  \\\n",
       "134082             1.0              1.0  0.634770         0.802469   \n",
       "88426              1.0              1.0  0.717741         0.956790   \n",
       "157478             1.0              0.0  0.687548         0.759259   \n",
       "161043             2.0              1.0  0.476548         0.154321   \n",
       "139694             0.0              0.0  0.648626         0.932099   \n",
       "\n",
       "        Lama_Berlangganan  Tertarik  \n",
       "134082           0.193772         0  \n",
       "88426            0.688581         0  \n",
       "157478           0.602076         0  \n",
       "161043           0.546713         0  \n",
       "139694           0.499247         0  "
      ]
     },
     "execution_count": 72,
     "metadata": {},
     "output_type": "execute_result"
    }
   ],
   "source": [
    "# Menampilkan Sampel Data\n",
    "df = pd.read_csv('../../Dataset/kendaraan_train_clean.csv')\n",
    "df.sample(5)"
   ]
  },
  {
   "cell_type": "code",
   "execution_count": 73,
   "metadata": {},
   "outputs": [
    {
     "data": {
      "text/plain": [
       "Jenis_Kelamin        0\n",
       "Umur                 0\n",
       "SIM                  0\n",
       "Kode_Daerah          0\n",
       "Sudah_Asuransi       0\n",
       "Umur_Kendaraan       0\n",
       "Kendaraan_Rusak      0\n",
       "Premi                0\n",
       "Kanal_Penjualan      0\n",
       "Lama_Berlangganan    0\n",
       "Tertarik             0\n",
       "dtype: int64"
      ]
     },
     "execution_count": 73,
     "metadata": {},
     "output_type": "execute_result"
    }
   ],
   "source": [
    "# Mengecek Data Kosong\n",
    "df.isna().sum()"
   ]
  },
  {
   "cell_type": "markdown",
   "metadata": {},
   "source": [
    "## **Feature Selection**"
   ]
  },
  {
   "cell_type": "code",
   "execution_count": 74,
   "metadata": {},
   "outputs": [
    {
     "data": {
      "text/html": [
       "<div>\n",
       "<style scoped>\n",
       "    .dataframe tbody tr th:only-of-type {\n",
       "        vertical-align: middle;\n",
       "    }\n",
       "\n",
       "    .dataframe tbody tr th {\n",
       "        vertical-align: top;\n",
       "    }\n",
       "\n",
       "    .dataframe thead th {\n",
       "        text-align: right;\n",
       "    }\n",
       "</style>\n",
       "<table border=\"1\" class=\"dataframe\">\n",
       "  <thead>\n",
       "    <tr style=\"text-align: right;\">\n",
       "      <th></th>\n",
       "      <th>Umur</th>\n",
       "      <th>Sudah_Asuransi</th>\n",
       "    </tr>\n",
       "  </thead>\n",
       "  <tbody>\n",
       "    <tr>\n",
       "      <th>0</th>\n",
       "      <td>0.153846</td>\n",
       "      <td>1.0</td>\n",
       "    </tr>\n",
       "    <tr>\n",
       "      <th>1</th>\n",
       "      <td>0.430769</td>\n",
       "      <td>0.0</td>\n",
       "    </tr>\n",
       "    <tr>\n",
       "      <th>2</th>\n",
       "      <td>0.015385</td>\n",
       "      <td>1.0</td>\n",
       "    </tr>\n",
       "    <tr>\n",
       "      <th>3</th>\n",
       "      <td>0.461538</td>\n",
       "      <td>0.0</td>\n",
       "    </tr>\n",
       "    <tr>\n",
       "      <th>4</th>\n",
       "      <td>0.015385</td>\n",
       "      <td>1.0</td>\n",
       "    </tr>\n",
       "  </tbody>\n",
       "</table>\n",
       "</div>"
      ],
      "text/plain": [
       "       Umur  Sudah_Asuransi\n",
       "0  0.153846             1.0\n",
       "1  0.430769             0.0\n",
       "2  0.015385             1.0\n",
       "3  0.461538             0.0\n",
       "4  0.015385             1.0"
      ]
     },
     "execution_count": 74,
     "metadata": {},
     "output_type": "execute_result"
    }
   ],
   "source": [
    "df = df[['Umur', 'Sudah_Asuransi']]\n",
    "df_pure = df.copy()\n",
    "df.head()"
   ]
  },
  {
   "cell_type": "code",
   "execution_count": 75,
   "metadata": {},
   "outputs": [
    {
     "name": "stdout",
     "output_type": "stream",
     "text": [
      "Total Data : 230631\n"
     ]
    }
   ],
   "source": [
    "# Mengecek Total Data Pada Dataframe\n",
    "print(\"Total Data :\", len(df))"
   ]
  },
  {
   "cell_type": "markdown",
   "metadata": {},
   "source": [
    "## **K-MEANS Algorithm**"
   ]
  },
  {
   "cell_type": "code",
   "execution_count": 76,
   "metadata": {},
   "outputs": [],
   "source": [
    "# Mendefinisikan Metode Euclidean Untuk Perhitungan Jarak Dari Centroid\n",
    "def euclidean(x, y):\n",
    "    return math.sqrt(sum((x - y)**2))\n",
    "\n",
    "# Pemberhentian Proses Iterasi Ketika Centroid Saat Ini Sama Dengan Nilai Centroid Sebelumnya\n",
    "# Dilakukan Dengan Pengecekan Masing-Masing Value Dari Dictionary\n",
    "def is_convergent(temp_centroid, centroid, k):\n",
    "    for i in range(k):\n",
    "        if (temp_centroid.get(i) != centroid.get(i))[0]:\n",
    "            return False\n",
    "\n",
    "    return True\n",
    "\n",
    "def kmeans(k, max_iter, df):\n",
    "    # Inisialisasi Dictionary Centroid Kemudian Memilih Centroid Secara Random Pada Data\n",
    "    # Sesuai Banyaknya Cluster Yang Didefinisikan\n",
    "    centroid = {i: df[random.randint(0, len(df))] for i in range(k)}\n",
    "    \n",
    "    # Mengcopy Centroid Saat Ini Untuk Acuan Pemberhentian Proses Iterasi Centroid Maksimal\n",
    "    temp_centroid = centroid.copy()\n",
    "    \n",
    "    for _ in range(max_iter):\n",
    "        # Mendefinisikan Dictionary Cluster Dan Mengisi Setiap Key\n",
    "        # Pada Cluster Berisi Array kosong, contoh : {0: [], 1: [], 2: []}\n",
    "        cluster = {i: [] for i in range(k)}\n",
    "        wcss = []\n",
    "\n",
    "        # Mencari Nilai Terdekat Pada Data Untuk Setiap Centroid Yang Telah Di Definisikan Sebelumnya\n",
    "        # Menggunakan Metode Euclidean Dan Mencari Nilai Minimum Pada Setiap Distance\n",
    "        # Untuk Dimasukkan Kedalam Dictionary Cluster\n",
    "        for x in df:\n",
    "            dist = [euclidean(x, centroid[c]) for c in centroid]\n",
    "            wcss.append(np.min(dist))\n",
    "            cluster[dist.index(min(dist))].append(x)\n",
    "            \n",
    "        # Mencari Nilai Centroid Ulang Dari Setiap Cluster\n",
    "        # Yang Telah Dicari Sebelumnya Menggunakan Mean\n",
    "        for cl in cluster:\n",
    "            centroid[cl] = np.mean(cluster[cl], axis=0)\n",
    "            \n",
    "        # Mengecek Jika Centroid Telah Mencapai Nilai Maksimum / Konvergen\n",
    "        if is_convergent(temp_centroid, centroid, k): break\n",
    "\n",
    "        # Mengcopy Centroid Yang Telah Berubah Dari Perhitungan Sebelumnya\n",
    "        temp_centroid = centroid.copy()\n",
    "\n",
    "    # Mengembalikan Nilai Dari Variabel Centroid Dan Cluster\n",
    "    return centroid, cluster, sum(wcss)\n"
   ]
  },
  {
   "cell_type": "code",
   "execution_count": 77,
   "metadata": {},
   "outputs": [],
   "source": [
    "def make_cluster(cluster):\n",
    "    # Inisialisasi Array Untuk Data Cluster\n",
    "    df = []\n",
    "\n",
    "    # Melakukan Perulangan Untuk Setiap Key Pada Data\n",
    "    # Hasil Proses K-Means Untuk Diinputkan Kedalam Array Cluster (df)\n",
    "    for key in cluster[1].keys():\n",
    "        for c in cluster[1].get(key):\n",
    "            df.append((c[0], c[1], key))\n",
    "\n",
    "    # Set Array df menjadi dataframe, Menamakan nama kolom dan menampilkannya\n",
    "    df = pd.DataFrame(df)\n",
    "    df.columns = ['Umur', 'Sudah_Asuransi', 'Cluster']\n",
    "    \n",
    "    return df\n"
   ]
  },
  {
   "cell_type": "code",
   "execution_count": 78,
   "metadata": {},
   "outputs": [],
   "source": [
    "def visualize_cluster(cluster_all):\n",
    "    # Set Array Untuk Hasil Klasterisasi \n",
    "    clusterize = []\n",
    "\n",
    "    # Subplot Untuk Plot Chart Beserta Inisialisasi Nilai Baris Dan Kolomnya\n",
    "    fig, axs = plt.subplots(2, 2, figsize=(15, 15))\n",
    "    row = 0\n",
    "    col = 0\n",
    "   \n",
    "    for cluster in cluster_all: \n",
    "        # Membuat Dataframe Untuk Setiap Cluster Dan Memasukkan Jenis Clusternya Untuk Menghitung Score\n",
    "        df = make_cluster(cluster)\n",
    "        clusterize.append(df)\n",
    "\n",
    "        # Set Warna Setiap Cluster\n",
    "        colors = ['r', 'g', '#0080ff', '#e69500', '#bd17ff']\n",
    "\n",
    "        # Set Title Untuk Setiap Plottingan Cluster\n",
    "        axs[col, row].set_title(f'Model Dengan {cluster[0]} Cluster', fontsize=14)\n",
    "\n",
    "        # Melakukan Looping Setiap Titik Data Dan Centroid\n",
    "        for i in range(cluster[0]):\n",
    "            axs[col][row].scatter(\n",
    "                df['Umur'][df['Cluster'] == i],\n",
    "                df['Sudah_Asuransi'][df['Cluster'] == i],\n",
    "                color=colors[i],\n",
    "                label=f'Cluster {i}'\n",
    "            )\n",
    "\n",
    "            axs[col][row].scatter(cluster[2][i][0], cluster[2][i][1], color='k', marker='P')\n",
    "\n",
    "        # Acuan Penampilan Legend Centroid\n",
    "        axs[col][row].scatter(cluster[2][0][0], cluster[2][0][1], color='k', label=\"Centroids\", marker='P')\n",
    "                            \n",
    "        # Set Nama Label X Dan Y Pada Plot Dan Set Tempat Legend Ditampilkan\n",
    "        axs[col][row].legend(loc='best', bbox_to_anchor=(1, 0.5))\n",
    "\n",
    "        # Mengatur Row Dan Column Untuk Array Axis Yang Akan Ditampilkan \n",
    "        row += 1\n",
    "        if row == 2: row = 0\n",
    "        if row == 0 and col == 0: \n",
    "            row = 0\n",
    "            col = 1 \n",
    "\n",
    "    # Set Label Untuk Axis x Dan y \n",
    "    for ax in axs.flat:\n",
    "        ax.set(xlabel='Umur', ylabel='Sudah Asuransi')\n",
    "        ax.label_outer()\n",
    "\n",
    "    # Mengatur Padding Dan Menampilkan Plot\n",
    "    plt.subplots_adjust(wspace=0.3, hspace=0.1)\n",
    "    plt.show()\n",
    "\n",
    "    return clusterize"
   ]
  },
  {
   "cell_type": "markdown",
   "metadata": {},
   "source": [
    "## **Main Program**"
   ]
  },
  {
   "cell_type": "code",
   "execution_count": 79,
   "metadata": {},
   "outputs": [
    {
     "name": "stdout",
     "output_type": "stream",
     "text": [
      "Centroid Cluster-2: \n",
      "{0: array([0.21351526, 1.        ]), 1: array([0.33237546, 0.        ])}\n",
      "\n",
      "Centroid Cluster-3: \n",
      "{0: array([0.5552028, 1.       ]), 1: array([0.10426481, 1.        ]), 2: array([0.33237546, 0.        ])}\n",
      "\n",
      "Centroid Cluster-4: \n",
      "{0: array([0.32675445, 1.        ]), 1: array([0.07252591, 1.        ]), 2: array([0.67680002, 1.        ]), 3: array([0.33237546, 0.        ])}\n",
      "\n",
      "Centroid Cluster-5: \n",
      "{0: array([0.10426481, 1.        ]), 1: array([0.5552028, 1.       ]), 2: array([0.69420658, 0.        ]), 3: array([0.39340205, 0.        ]), 4: array([0.11158534, 0.        ])}\n",
      "\n"
     ]
    }
   ],
   "source": [
    "# Inisialisasi Array Untuk WCSS Dan Keseluruhan Hasil Cluster\n",
    "wcss_all = []\n",
    "cluster_all = [] \n",
    "\n",
    "# Merubah DataFrame Menjadi Numpy Array\n",
    "data = df.to_numpy()\n",
    "\n",
    "# Memasukkan Nilai Maksimum Iterasi\n",
    "max_iter = 100\n",
    "\n",
    "# Inisialisasi Range K\n",
    "K = range(2, 6)\n",
    "\n",
    "# Melakukan Perulangan Untuk Setiap Range\n",
    "for i in K:\n",
    "    # Menggunakan Model Yang Telah Dibangun Untuk Mendapatkan Centroid, Cluster Dan Nilai WCSS \n",
    "    centroid, cluster, wcss = kmeans(i, max_iter, data)\n",
    "    print(f'Centroid Cluster-{i}: \\n{centroid}\\n')\n",
    "    \n",
    "    # Memasukkan Setiap Nilai Yang Direturn Kedalam Array\n",
    "    wcss_all.append(wcss)\n",
    "    cluster_all.append([i, cluster, centroid])    \n"
   ]
  },
  {
   "cell_type": "markdown",
   "metadata": {},
   "source": [
    "## **Visualisasi Model Setiap Cluster**"
   ]
  },
  {
   "cell_type": "code",
   "execution_count": 80,
   "metadata": {},
   "outputs": [
    {
     "data": {
      "image/png": "[encoded data removed]",
      "text/plain": [
       "<Figure size 1080x1080 with 4 Axes>"
      ]
     },
     "metadata": {
      "needs_background": "light"
     },
     "output_type": "display_data"
    }
   ],
   "source": [
    "clusterize = visualize_cluster(cluster_all)"
   ]
  },
  {
   "cell_type": "markdown",
   "metadata": {},
   "source": [
    "## **Evaluasi Model Cluster**"
   ]
  },
  {
   "cell_type": "code",
   "execution_count": 81,
   "metadata": {},
   "outputs": [
    {
     "data": {
      "image/png": "[encoded data removed]",
      "text/plain": [
       "<Figure size 432x288 with 1 Axes>"
      ]
     },
     "metadata": {
      "needs_background": "light"
     },
     "output_type": "display_data"
    }
   ],
   "source": [
    "# Plot data\n",
    "plt.plot(K, wcss_all, marker='o')\n",
    "plt.xlabel('Nilai K')\n",
    "plt.ylabel('Weight Cluster Sum Square (WCSS)')\n",
    "plt.title('Evaluasi Jumlah Cluster Dengan Elbow Method', fontsize=14, pad=16)\n",
    "plt.show()"
   ]
  },
  {
   "cell_type": "code",
   "execution_count": 82,
   "metadata": {},
   "outputs": [
    {
     "name": "stdout",
     "output_type": "stream",
     "text": [
      "Cluster-2, Silhouette Score = 0.770161481869791\n",
      "Cluster-3, Silhouette Score = 0.7367476834222225\n",
      "Cluster-4, Silhouette Score = 0.7233073341006369\n",
      "Cluster-5, Silhouette Score = 0.6471626589213675\n"
     ]
    }
   ],
   "source": [
    "for i, cluster in enumerate(clusterize):\n",
    "    score = silhouette_score(cluster[['Umur', 'Sudah_Asuransi']], cluster['Cluster'])\n",
    "    print(f'Cluster-{i+2}, Silhouette Score = {score}')\n"
   ]
  }
 ],
 "metadata": {
  "interpreter": {
   "hash": "2bf746931fd58f1246b6df4740a30aa94cbb7406c646ac7ef817c7ae9c273626"
  },
  "kernelspec": {
   "display_name": "Python 3.9.0 64-bit",
   "name": "python3"
  },
  "language_info": {
   "codemirror_mode": {
    "name": "ipython",
    "version": 3
   },
   "file_extension": ".py",
   "mimetype": "text/x-python",
   "name": "python",
   "nbconvert_exporter": "python",
   "pygments_lexer": "ipython3",
   "version": "3.9.0"
  },
  "orig_nbformat": 4
 },
 "nbformat": 4,
 "nbformat_minor": 2
}
