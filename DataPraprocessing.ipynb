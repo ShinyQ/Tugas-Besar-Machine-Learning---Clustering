{
 "cells": [
  {
   "cell_type": "code",
   "execution_count": 1,
   "metadata": {},
   "outputs": [],
   "source": [
    "import pandas as pd\n",
    "import numpy as np\n",
    "import seaborn as sns\n",
    "import matplotlib.pyplot as plt\n",
    "\n",
    "from sklearn.preprocessing import StandardScaler, MinMaxScaler\n",
    "from sklearn.decomposition import PCA\n"
   ]
  },
  {
   "cell_type": "code",
   "execution_count": 2,
   "metadata": {},
   "outputs": [
    {
     "name": "stdout",
     "output_type": "stream",
     "text": [
      "Total Dataset : 285831\n"
     ]
    },
    {
     "data": {
      "text/html": [
       "<div>\n",
       "<style scoped>\n",
       "    .dataframe tbody tr th:only-of-type {\n",
       "        vertical-align: middle;\n",
       "    }\n",
       "\n",
       "    .dataframe tbody tr th {\n",
       "        vertical-align: top;\n",
       "    }\n",
       "\n",
       "    .dataframe thead th {\n",
       "        text-align: right;\n",
       "    }\n",
       "</style>\n",
       "<table border=\"1\" class=\"dataframe\">\n",
       "  <thead>\n",
       "    <tr style=\"text-align: right;\">\n",
       "      <th></th>\n",
       "      <th>Jenis_Kelamin</th>\n",
       "      <th>Umur</th>\n",
       "      <th>SIM</th>\n",
       "      <th>Kode_Daerah</th>\n",
       "      <th>Sudah_Asuransi</th>\n",
       "      <th>Umur_Kendaraan</th>\n",
       "      <th>Kendaraan_Rusak</th>\n",
       "      <th>Premi</th>\n",
       "      <th>Kanal_Penjualan</th>\n",
       "      <th>Lama_Berlangganan</th>\n",
       "      <th>Tertarik</th>\n",
       "    </tr>\n",
       "  </thead>\n",
       "  <tbody>\n",
       "    <tr>\n",
       "      <th>121076</th>\n",
       "      <td>Wanita</td>\n",
       "      <td>38.0</td>\n",
       "      <td>1.0</td>\n",
       "      <td>15.0</td>\n",
       "      <td>0.0</td>\n",
       "      <td>1-2 Tahun</td>\n",
       "      <td>Pernah</td>\n",
       "      <td>27363.0</td>\n",
       "      <td>124.0</td>\n",
       "      <td>156.0</td>\n",
       "      <td>1</td>\n",
       "    </tr>\n",
       "    <tr>\n",
       "      <th>84950</th>\n",
       "      <td>Wanita</td>\n",
       "      <td>22.0</td>\n",
       "      <td>1.0</td>\n",
       "      <td>13.0</td>\n",
       "      <td>1.0</td>\n",
       "      <td>&lt; 1 Tahun</td>\n",
       "      <td>Tidak</td>\n",
       "      <td>2630.0</td>\n",
       "      <td>152.0</td>\n",
       "      <td>245.0</td>\n",
       "      <td>0</td>\n",
       "    </tr>\n",
       "    <tr>\n",
       "      <th>179542</th>\n",
       "      <td>NaN</td>\n",
       "      <td>NaN</td>\n",
       "      <td>1.0</td>\n",
       "      <td>15.0</td>\n",
       "      <td>0.0</td>\n",
       "      <td>&lt; 1 Tahun</td>\n",
       "      <td>Pernah</td>\n",
       "      <td>27661.0</td>\n",
       "      <td>152.0</td>\n",
       "      <td>184.0</td>\n",
       "      <td>0</td>\n",
       "    </tr>\n",
       "    <tr>\n",
       "      <th>21802</th>\n",
       "      <td>Pria</td>\n",
       "      <td>27.0</td>\n",
       "      <td>1.0</td>\n",
       "      <td>11.0</td>\n",
       "      <td>NaN</td>\n",
       "      <td>&lt; 1 Tahun</td>\n",
       "      <td>Tidak</td>\n",
       "      <td>35749.0</td>\n",
       "      <td>152.0</td>\n",
       "      <td>271.0</td>\n",
       "      <td>0</td>\n",
       "    </tr>\n",
       "    <tr>\n",
       "      <th>184974</th>\n",
       "      <td>Wanita</td>\n",
       "      <td>60.0</td>\n",
       "      <td>1.0</td>\n",
       "      <td>33.0</td>\n",
       "      <td>1.0</td>\n",
       "      <td>1-2 Tahun</td>\n",
       "      <td>Tidak</td>\n",
       "      <td>2630.0</td>\n",
       "      <td>124.0</td>\n",
       "      <td>224.0</td>\n",
       "      <td>0</td>\n",
       "    </tr>\n",
       "  </tbody>\n",
       "</table>\n",
       "</div>"
      ],
      "text/plain": [
       "       Jenis_Kelamin  Umur  SIM  Kode_Daerah  Sudah_Asuransi Umur_Kendaraan  \\\n",
       "121076        Wanita  38.0  1.0         15.0             0.0      1-2 Tahun   \n",
       "84950         Wanita  22.0  1.0         13.0             1.0      < 1 Tahun   \n",
       "179542           NaN   NaN  1.0         15.0             0.0      < 1 Tahun   \n",
       "21802           Pria  27.0  1.0         11.0             NaN      < 1 Tahun   \n",
       "184974        Wanita  60.0  1.0         33.0             1.0      1-2 Tahun   \n",
       "\n",
       "       Kendaraan_Rusak    Premi  Kanal_Penjualan  Lama_Berlangganan  Tertarik  \n",
       "121076          Pernah  27363.0            124.0              156.0         1  \n",
       "84950            Tidak   2630.0            152.0              245.0         0  \n",
       "179542          Pernah  27661.0            152.0              184.0         0  \n",
       "21802            Tidak  35749.0            152.0              271.0         0  \n",
       "184974           Tidak   2630.0            124.0              224.0         0  "
      ]
     },
     "execution_count": 2,
     "metadata": {},
     "output_type": "execute_result"
    }
   ],
   "source": [
    "df_train = pd.read_csv(\"Dataset/kendaraan_train.csv\")\n",
    "df_train.drop(['id'], axis=1, inplace=True)\n",
    "\n",
    "print(\"Total Dataset :\", len(df_train))\n",
    "df_train.sample(5)"
   ]
  },
  {
   "cell_type": "code",
   "execution_count": 3,
   "metadata": {},
   "outputs": [
    {
     "data": {
      "text/plain": [
       "Jenis_Kelamin         object\n",
       "Umur                 float64\n",
       "SIM                  float64\n",
       "Kode_Daerah          float64\n",
       "Sudah_Asuransi       float64\n",
       "Umur_Kendaraan        object\n",
       "Kendaraan_Rusak       object\n",
       "Premi                float64\n",
       "Kanal_Penjualan      float64\n",
       "Lama_Berlangganan    float64\n",
       "Tertarik               int64\n",
       "dtype: object"
      ]
     },
     "execution_count": 3,
     "metadata": {},
     "output_type": "execute_result"
    }
   ],
   "source": [
    "df_train.dtypes"
   ]
  },
  {
   "cell_type": "code",
   "execution_count": 4,
   "metadata": {},
   "outputs": [
    {
     "data": {
      "text/plain": [
       "1-2 Tahun    142761\n",
       "< 1 Tahun    117378\n",
       "> 2 Tahun     11417\n",
       "Name: Umur_Kendaraan, dtype: int64"
      ]
     },
     "execution_count": 4,
     "metadata": {},
     "output_type": "execute_result"
    }
   ],
   "source": [
    "df_train['Umur_Kendaraan'].value_counts()"
   ]
  },
  {
   "cell_type": "code",
   "execution_count": 5,
   "metadata": {},
   "outputs": [
    {
     "data": {
      "text/plain": [
       "Pernah    137123\n",
       "Tidak     134520\n",
       "Name: Kendaraan_Rusak, dtype: int64"
      ]
     },
     "execution_count": 5,
     "metadata": {},
     "output_type": "execute_result"
    }
   ],
   "source": [
    "df_train['Kendaraan_Rusak'].value_counts()"
   ]
  },
  {
   "cell_type": "code",
   "execution_count": 6,
   "metadata": {},
   "outputs": [
    {
     "data": {
      "text/plain": [
       "1.0    270843\n",
       "0.0       584\n",
       "Name: SIM, dtype: int64"
      ]
     },
     "execution_count": 6,
     "metadata": {},
     "output_type": "execute_result"
    }
   ],
   "source": [
    "df_train['SIM'].value_counts()"
   ]
  },
  {
   "cell_type": "code",
   "execution_count": 7,
   "metadata": {},
   "outputs": [
    {
     "data": {
      "text/plain": [
       "0.0    146997\n",
       "1.0    124605\n",
       "Name: Sudah_Asuransi, dtype: int64"
      ]
     },
     "execution_count": 7,
     "metadata": {},
     "output_type": "execute_result"
    }
   ],
   "source": [
    "df_train['Sudah_Asuransi'].value_counts()"
   ]
  },
  {
   "cell_type": "code",
   "execution_count": 8,
   "metadata": {},
   "outputs": [
    {
     "data": {
      "text/html": [
       "<div>\n",
       "<style scoped>\n",
       "    .dataframe tbody tr th:only-of-type {\n",
       "        vertical-align: middle;\n",
       "    }\n",
       "\n",
       "    .dataframe tbody tr th {\n",
       "        vertical-align: top;\n",
       "    }\n",
       "\n",
       "    .dataframe thead th {\n",
       "        text-align: right;\n",
       "    }\n",
       "</style>\n",
       "<table border=\"1\" class=\"dataframe\">\n",
       "  <thead>\n",
       "    <tr style=\"text-align: right;\">\n",
       "      <th></th>\n",
       "      <th>Umur</th>\n",
       "      <th>SIM</th>\n",
       "      <th>Kode_Daerah</th>\n",
       "      <th>Sudah_Asuransi</th>\n",
       "      <th>Premi</th>\n",
       "      <th>Kanal_Penjualan</th>\n",
       "      <th>Lama_Berlangganan</th>\n",
       "      <th>Tertarik</th>\n",
       "    </tr>\n",
       "  </thead>\n",
       "  <tbody>\n",
       "    <tr>\n",
       "      <th>count</th>\n",
       "      <td>271617.000000</td>\n",
       "      <td>271427.000000</td>\n",
       "      <td>271525.000000</td>\n",
       "      <td>271602.000000</td>\n",
       "      <td>271262.000000</td>\n",
       "      <td>271532.000000</td>\n",
       "      <td>271839.000000</td>\n",
       "      <td>285831.000000</td>\n",
       "    </tr>\n",
       "    <tr>\n",
       "      <th>mean</th>\n",
       "      <td>38.844336</td>\n",
       "      <td>0.997848</td>\n",
       "      <td>26.405410</td>\n",
       "      <td>0.458778</td>\n",
       "      <td>30536.683472</td>\n",
       "      <td>112.021567</td>\n",
       "      <td>154.286302</td>\n",
       "      <td>0.122471</td>\n",
       "    </tr>\n",
       "    <tr>\n",
       "      <th>std</th>\n",
       "      <td>15.522487</td>\n",
       "      <td>0.046335</td>\n",
       "      <td>13.252714</td>\n",
       "      <td>0.498299</td>\n",
       "      <td>17155.000770</td>\n",
       "      <td>54.202457</td>\n",
       "      <td>83.694910</td>\n",
       "      <td>0.327830</td>\n",
       "    </tr>\n",
       "    <tr>\n",
       "      <th>min</th>\n",
       "      <td>20.000000</td>\n",
       "      <td>0.000000</td>\n",
       "      <td>0.000000</td>\n",
       "      <td>0.000000</td>\n",
       "      <td>2630.000000</td>\n",
       "      <td>1.000000</td>\n",
       "      <td>10.000000</td>\n",
       "      <td>0.000000</td>\n",
       "    </tr>\n",
       "    <tr>\n",
       "      <th>25%</th>\n",
       "      <td>25.000000</td>\n",
       "      <td>1.000000</td>\n",
       "      <td>15.000000</td>\n",
       "      <td>0.000000</td>\n",
       "      <td>24398.000000</td>\n",
       "      <td>29.000000</td>\n",
       "      <td>82.000000</td>\n",
       "      <td>0.000000</td>\n",
       "    </tr>\n",
       "    <tr>\n",
       "      <th>50%</th>\n",
       "      <td>36.000000</td>\n",
       "      <td>1.000000</td>\n",
       "      <td>28.000000</td>\n",
       "      <td>0.000000</td>\n",
       "      <td>31646.000000</td>\n",
       "      <td>132.000000</td>\n",
       "      <td>154.000000</td>\n",
       "      <td>0.000000</td>\n",
       "    </tr>\n",
       "    <tr>\n",
       "      <th>75%</th>\n",
       "      <td>49.000000</td>\n",
       "      <td>1.000000</td>\n",
       "      <td>35.000000</td>\n",
       "      <td>1.000000</td>\n",
       "      <td>39377.750000</td>\n",
       "      <td>152.000000</td>\n",
       "      <td>227.000000</td>\n",
       "      <td>0.000000</td>\n",
       "    </tr>\n",
       "    <tr>\n",
       "      <th>max</th>\n",
       "      <td>85.000000</td>\n",
       "      <td>1.000000</td>\n",
       "      <td>52.000000</td>\n",
       "      <td>1.000000</td>\n",
       "      <td>540165.000000</td>\n",
       "      <td>163.000000</td>\n",
       "      <td>299.000000</td>\n",
       "      <td>1.000000</td>\n",
       "    </tr>\n",
       "  </tbody>\n",
       "</table>\n",
       "</div>"
      ],
      "text/plain": [
       "                Umur            SIM    Kode_Daerah  Sudah_Asuransi  \\\n",
       "count  271617.000000  271427.000000  271525.000000   271602.000000   \n",
       "mean       38.844336       0.997848      26.405410        0.458778   \n",
       "std        15.522487       0.046335      13.252714        0.498299   \n",
       "min        20.000000       0.000000       0.000000        0.000000   \n",
       "25%        25.000000       1.000000      15.000000        0.000000   \n",
       "50%        36.000000       1.000000      28.000000        0.000000   \n",
       "75%        49.000000       1.000000      35.000000        1.000000   \n",
       "max        85.000000       1.000000      52.000000        1.000000   \n",
       "\n",
       "               Premi  Kanal_Penjualan  Lama_Berlangganan       Tertarik  \n",
       "count  271262.000000    271532.000000      271839.000000  285831.000000  \n",
       "mean    30536.683472       112.021567         154.286302       0.122471  \n",
       "std     17155.000770        54.202457          83.694910       0.327830  \n",
       "min      2630.000000         1.000000          10.000000       0.000000  \n",
       "25%     24398.000000        29.000000          82.000000       0.000000  \n",
       "50%     31646.000000       132.000000         154.000000       0.000000  \n",
       "75%     39377.750000       152.000000         227.000000       0.000000  \n",
       "max    540165.000000       163.000000         299.000000       1.000000  "
      ]
     },
     "execution_count": 8,
     "metadata": {},
     "output_type": "execute_result"
    }
   ],
   "source": [
    "df_train.describe()"
   ]
  },
  {
   "cell_type": "code",
   "execution_count": 9,
   "metadata": {},
   "outputs": [
    {
     "name": "stdout",
     "output_type": "stream",
     "text": [
      "Total Dataset : 47639\n"
     ]
    },
    {
     "data": {
      "text/html": [
       "<div>\n",
       "<style scoped>\n",
       "    .dataframe tbody tr th:only-of-type {\n",
       "        vertical-align: middle;\n",
       "    }\n",
       "\n",
       "    .dataframe tbody tr th {\n",
       "        vertical-align: top;\n",
       "    }\n",
       "\n",
       "    .dataframe thead th {\n",
       "        text-align: right;\n",
       "    }\n",
       "</style>\n",
       "<table border=\"1\" class=\"dataframe\">\n",
       "  <thead>\n",
       "    <tr style=\"text-align: right;\">\n",
       "      <th></th>\n",
       "      <th>Jenis_Kelamin</th>\n",
       "      <th>Umur</th>\n",
       "      <th>SIM</th>\n",
       "      <th>Kode_Daerah</th>\n",
       "      <th>Sudah_Asuransi</th>\n",
       "      <th>Umur_Kendaraan</th>\n",
       "      <th>Kendaraan_Rusak</th>\n",
       "      <th>Premi</th>\n",
       "      <th>Kanal_Penjualan</th>\n",
       "      <th>Lama_Berlangganan</th>\n",
       "      <th>Tertarik</th>\n",
       "    </tr>\n",
       "  </thead>\n",
       "  <tbody>\n",
       "    <tr>\n",
       "      <th>35043</th>\n",
       "      <td>Pria</td>\n",
       "      <td>47</td>\n",
       "      <td>1</td>\n",
       "      <td>28</td>\n",
       "      <td>0</td>\n",
       "      <td>1-2 Tahun</td>\n",
       "      <td>Pernah</td>\n",
       "      <td>42346</td>\n",
       "      <td>124</td>\n",
       "      <td>210</td>\n",
       "      <td>0</td>\n",
       "    </tr>\n",
       "    <tr>\n",
       "      <th>36967</th>\n",
       "      <td>Pria</td>\n",
       "      <td>29</td>\n",
       "      <td>1</td>\n",
       "      <td>30</td>\n",
       "      <td>0</td>\n",
       "      <td>&lt; 1 Tahun</td>\n",
       "      <td>Pernah</td>\n",
       "      <td>2630</td>\n",
       "      <td>154</td>\n",
       "      <td>89</td>\n",
       "      <td>0</td>\n",
       "    </tr>\n",
       "    <tr>\n",
       "      <th>28580</th>\n",
       "      <td>Pria</td>\n",
       "      <td>45</td>\n",
       "      <td>1</td>\n",
       "      <td>28</td>\n",
       "      <td>0</td>\n",
       "      <td>1-2 Tahun</td>\n",
       "      <td>Pernah</td>\n",
       "      <td>33128</td>\n",
       "      <td>26</td>\n",
       "      <td>209</td>\n",
       "      <td>1</td>\n",
       "    </tr>\n",
       "    <tr>\n",
       "      <th>17199</th>\n",
       "      <td>Pria</td>\n",
       "      <td>29</td>\n",
       "      <td>1</td>\n",
       "      <td>28</td>\n",
       "      <td>0</td>\n",
       "      <td>&lt; 1 Tahun</td>\n",
       "      <td>Pernah</td>\n",
       "      <td>60770</td>\n",
       "      <td>26</td>\n",
       "      <td>289</td>\n",
       "      <td>1</td>\n",
       "    </tr>\n",
       "    <tr>\n",
       "      <th>27201</th>\n",
       "      <td>Pria</td>\n",
       "      <td>23</td>\n",
       "      <td>1</td>\n",
       "      <td>28</td>\n",
       "      <td>1</td>\n",
       "      <td>&lt; 1 Tahun</td>\n",
       "      <td>Tidak</td>\n",
       "      <td>29988</td>\n",
       "      <td>152</td>\n",
       "      <td>199</td>\n",
       "      <td>0</td>\n",
       "    </tr>\n",
       "  </tbody>\n",
       "</table>\n",
       "</div>"
      ],
      "text/plain": [
       "      Jenis_Kelamin  Umur  SIM  Kode_Daerah  Sudah_Asuransi Umur_Kendaraan  \\\n",
       "35043          Pria    47    1           28               0      1-2 Tahun   \n",
       "36967          Pria    29    1           30               0      < 1 Tahun   \n",
       "28580          Pria    45    1           28               0      1-2 Tahun   \n",
       "17199          Pria    29    1           28               0      < 1 Tahun   \n",
       "27201          Pria    23    1           28               1      < 1 Tahun   \n",
       "\n",
       "      Kendaraan_Rusak  Premi  Kanal_Penjualan  Lama_Berlangganan  Tertarik  \n",
       "35043          Pernah  42346              124                210         0  \n",
       "36967          Pernah   2630              154                 89         0  \n",
       "28580          Pernah  33128               26                209         1  \n",
       "17199          Pernah  60770               26                289         1  \n",
       "27201           Tidak  29988              152                199         0  "
      ]
     },
     "execution_count": 9,
     "metadata": {},
     "output_type": "execute_result"
    }
   ],
   "source": [
    "df_test = pd.read_csv(\"Dataset/kendaraan_test.csv\")\n",
    "\n",
    "print(\"Total Dataset :\", len(df_test))\n",
    "df_test.sample(5)"
   ]
  },
  {
   "cell_type": "code",
   "execution_count": 10,
   "metadata": {},
   "outputs": [
    {
     "name": "stdout",
     "output_type": "stream",
     "text": [
      "<class 'pandas.core.frame.DataFrame'>\n",
      "RangeIndex: 285831 entries, 0 to 285830\n",
      "Data columns (total 11 columns):\n",
      " #   Column             Non-Null Count   Dtype  \n",
      "---  ------             --------------   -----  \n",
      " 0   Jenis_Kelamin      271391 non-null  object \n",
      " 1   Umur               271617 non-null  float64\n",
      " 2   SIM                271427 non-null  float64\n",
      " 3   Kode_Daerah        271525 non-null  float64\n",
      " 4   Sudah_Asuransi     271602 non-null  float64\n",
      " 5   Umur_Kendaraan     271556 non-null  object \n",
      " 6   Kendaraan_Rusak    271643 non-null  object \n",
      " 7   Premi              271262 non-null  float64\n",
      " 8   Kanal_Penjualan    271532 non-null  float64\n",
      " 9   Lama_Berlangganan  271839 non-null  float64\n",
      " 10  Tertarik           285831 non-null  int64  \n",
      "dtypes: float64(7), int64(1), object(3)\n",
      "memory usage: 24.0+ MB\n"
     ]
    }
   ],
   "source": [
    "df_train.info()"
   ]
  },
  {
   "cell_type": "code",
   "execution_count": 11,
   "metadata": {},
   "outputs": [
    {
     "data": {
      "text/plain": [
       "Jenis_Kelamin        14440\n",
       "Umur                 14214\n",
       "SIM                  14404\n",
       "Kode_Daerah          14306\n",
       "Sudah_Asuransi       14229\n",
       "Umur_Kendaraan       14275\n",
       "Kendaraan_Rusak      14188\n",
       "Premi                14569\n",
       "Kanal_Penjualan      14299\n",
       "Lama_Berlangganan    13992\n",
       "Tertarik                 0\n",
       "dtype: int64"
      ]
     },
     "execution_count": 11,
     "metadata": {},
     "output_type": "execute_result"
    }
   ],
   "source": [
    "df_train.isna().sum()\n"
   ]
  },
  {
   "cell_type": "code",
   "execution_count": 12,
   "metadata": {},
   "outputs": [
    {
     "data": {
      "text/plain": [
       "Jenis_Kelamin        0\n",
       "Umur                 0\n",
       "SIM                  0\n",
       "Kode_Daerah          0\n",
       "Sudah_Asuransi       0\n",
       "Umur_Kendaraan       0\n",
       "Kendaraan_Rusak      0\n",
       "Premi                0\n",
       "Kanal_Penjualan      0\n",
       "Lama_Berlangganan    0\n",
       "Tertarik             0\n",
       "dtype: int64"
      ]
     },
     "execution_count": 12,
     "metadata": {},
     "output_type": "execute_result"
    }
   ],
   "source": [
    "df_test.isna().sum()\n"
   ]
  },
  {
   "cell_type": "code",
   "execution_count": 13,
   "metadata": {},
   "outputs": [
    {
     "data": {
      "image/png": "[encoded data removed]",
      "text/plain": [
       "<Figure size 1080x576 with 2 Axes>"
      ]
     },
     "metadata": {
      "needs_background": "light"
     },
     "output_type": "display_data"
    }
   ],
   "source": [
    "# Melihat Nilai Korelasi Antar Variable Dengan Heatmap\n",
    "\n",
    "plt.figure(figsize=(15, 8))\n",
    "mask = np.triu(np.ones_like(df_train.corr(), dtype=np.bool))\n",
    "heatmap = sns.heatmap(df_train.corr(), mask=mask, annot=True, cmap='BrBG')\n",
    "heatmap.set_title('Triangle Correlation Heatmap', fontdict={'fontsize': 16}, pad=16)\n",
    "plt.show()"
   ]
  },
  {
   "cell_type": "markdown",
   "metadata": {},
   "source": [
    "## **Menghapus Data Duplikasi**"
   ]
  },
  {
   "cell_type": "code",
   "execution_count": 14,
   "metadata": {},
   "outputs": [
    {
     "name": "stdout",
     "output_type": "stream",
     "text": [
      "Data Duplikasi : 169\n"
     ]
    }
   ],
   "source": [
    "duplicate = list(df_train.duplicated())\n",
    "print(\"Data Duplikasi :\", duplicate.count(True))"
   ]
  },
  {
   "cell_type": "code",
   "execution_count": 15,
   "metadata": {},
   "outputs": [],
   "source": [
    "df_train.drop_duplicates(inplace=True)"
   ]
  },
  {
   "cell_type": "code",
   "execution_count": 16,
   "metadata": {},
   "outputs": [
    {
     "name": "stdout",
     "output_type": "stream",
     "text": [
      "Data Duplikasi : 0\n"
     ]
    }
   ],
   "source": [
    "duplicate = list(df_train.duplicated())\n",
    "print(\"Data Duplikasi :\", duplicate.count(True))"
   ]
  },
  {
   "cell_type": "markdown",
   "metadata": {},
   "source": [
    "## **Label Encoding**\n"
   ]
  },
  {
   "cell_type": "code",
   "execution_count": 17,
   "metadata": {},
   "outputs": [
    {
     "data": {
      "text/html": [
       "<div>\n",
       "<style scoped>\n",
       "    .dataframe tbody tr th:only-of-type {\n",
       "        vertical-align: middle;\n",
       "    }\n",
       "\n",
       "    .dataframe tbody tr th {\n",
       "        vertical-align: top;\n",
       "    }\n",
       "\n",
       "    .dataframe thead th {\n",
       "        text-align: right;\n",
       "    }\n",
       "</style>\n",
       "<table border=\"1\" class=\"dataframe\">\n",
       "  <thead>\n",
       "    <tr style=\"text-align: right;\">\n",
       "      <th></th>\n",
       "      <th>Jenis_Kelamin</th>\n",
       "      <th>Umur</th>\n",
       "      <th>SIM</th>\n",
       "      <th>Kode_Daerah</th>\n",
       "      <th>Sudah_Asuransi</th>\n",
       "      <th>Umur_Kendaraan</th>\n",
       "      <th>Kendaraan_Rusak</th>\n",
       "      <th>Premi</th>\n",
       "      <th>Kanal_Penjualan</th>\n",
       "      <th>Lama_Berlangganan</th>\n",
       "      <th>Tertarik</th>\n",
       "    </tr>\n",
       "  </thead>\n",
       "  <tbody>\n",
       "    <tr>\n",
       "      <th>0</th>\n",
       "      <td>0.0</td>\n",
       "      <td>30.0</td>\n",
       "      <td>1.0</td>\n",
       "      <td>33.0</td>\n",
       "      <td>1.0</td>\n",
       "      <td>0.0</td>\n",
       "      <td>0.0</td>\n",
       "      <td>28029.0</td>\n",
       "      <td>152.0</td>\n",
       "      <td>97.0</td>\n",
       "      <td>0</td>\n",
       "    </tr>\n",
       "    <tr>\n",
       "      <th>1</th>\n",
       "      <td>1.0</td>\n",
       "      <td>48.0</td>\n",
       "      <td>1.0</td>\n",
       "      <td>39.0</td>\n",
       "      <td>0.0</td>\n",
       "      <td>2.0</td>\n",
       "      <td>1.0</td>\n",
       "      <td>25800.0</td>\n",
       "      <td>29.0</td>\n",
       "      <td>158.0</td>\n",
       "      <td>0</td>\n",
       "    </tr>\n",
       "    <tr>\n",
       "      <th>2</th>\n",
       "      <td>NaN</td>\n",
       "      <td>21.0</td>\n",
       "      <td>1.0</td>\n",
       "      <td>46.0</td>\n",
       "      <td>1.0</td>\n",
       "      <td>0.0</td>\n",
       "      <td>0.0</td>\n",
       "      <td>32733.0</td>\n",
       "      <td>160.0</td>\n",
       "      <td>119.0</td>\n",
       "      <td>0</td>\n",
       "    </tr>\n",
       "    <tr>\n",
       "      <th>3</th>\n",
       "      <td>0.0</td>\n",
       "      <td>58.0</td>\n",
       "      <td>1.0</td>\n",
       "      <td>48.0</td>\n",
       "      <td>0.0</td>\n",
       "      <td>1.0</td>\n",
       "      <td>0.0</td>\n",
       "      <td>2630.0</td>\n",
       "      <td>124.0</td>\n",
       "      <td>63.0</td>\n",
       "      <td>0</td>\n",
       "    </tr>\n",
       "    <tr>\n",
       "      <th>4</th>\n",
       "      <td>1.0</td>\n",
       "      <td>50.0</td>\n",
       "      <td>1.0</td>\n",
       "      <td>35.0</td>\n",
       "      <td>0.0</td>\n",
       "      <td>2.0</td>\n",
       "      <td>NaN</td>\n",
       "      <td>34857.0</td>\n",
       "      <td>88.0</td>\n",
       "      <td>194.0</td>\n",
       "      <td>0</td>\n",
       "    </tr>\n",
       "  </tbody>\n",
       "</table>\n",
       "</div>"
      ],
      "text/plain": [
       "   Jenis_Kelamin  Umur  SIM  Kode_Daerah  Sudah_Asuransi  Umur_Kendaraan  \\\n",
       "0            0.0  30.0  1.0         33.0             1.0             0.0   \n",
       "1            1.0  48.0  1.0         39.0             0.0             2.0   \n",
       "2            NaN  21.0  1.0         46.0             1.0             0.0   \n",
       "3            0.0  58.0  1.0         48.0             0.0             1.0   \n",
       "4            1.0  50.0  1.0         35.0             0.0             2.0   \n",
       "\n",
       "   Kendaraan_Rusak    Premi  Kanal_Penjualan  Lama_Berlangganan  Tertarik  \n",
       "0              0.0  28029.0            152.0               97.0         0  \n",
       "1              1.0  25800.0             29.0              158.0         0  \n",
       "2              0.0  32733.0            160.0              119.0         0  \n",
       "3              0.0   2630.0            124.0               63.0         0  \n",
       "4              NaN  34857.0             88.0              194.0         0  "
      ]
     },
     "execution_count": 17,
     "metadata": {},
     "output_type": "execute_result"
    }
   ],
   "source": [
    "def label_encoding(df):\n",
    "    df['Jenis_Kelamin'] = df['Jenis_Kelamin'].replace(['Wanita', 'Pria'], [0, 1])\n",
    "    df['Umur_Kendaraan'] = df['Umur_Kendaraan'].replace(['< 1 Tahun', '1-2 Tahun', '> 2 Tahun'], [0, 1, 2])\n",
    "    df['Kendaraan_Rusak'] = df['Kendaraan_Rusak'].replace(['Tidak', 'Pernah'], [0, 1])\n",
    "\n",
    "label_encoding(df_train)\n",
    "label_encoding(df_test)\n",
    "\n",
    "df_train.head()"
   ]
  },
  {
   "cell_type": "markdown",
   "metadata": {},
   "source": [
    "## **Mengisi Data Kosong**\n"
   ]
  },
  {
   "cell_type": "code",
   "execution_count": 18,
   "metadata": {},
   "outputs": [
    {
     "data": {
      "image/png": "[encoded data removed]",
      "text/plain": [
       "<Figure size 1440x1296 with 11 Axes>"
      ]
     },
     "metadata": {
      "needs_background": "light"
     },
     "output_type": "display_data"
    }
   ],
   "source": [
    "f = plt.figure(figsize=(20, 18))\n",
    "\n",
    "for i, val in enumerate(list(df_train.columns)):\n",
    "    f.add_subplot(4, 3, i+1)\n",
    "    sns.histplot(df_train[val], bins=15)\n",
    "   \n",
    "plt.show()"
   ]
  },
  {
   "cell_type": "code",
   "execution_count": 19,
   "metadata": {},
   "outputs": [
    {
     "data": {
      "text/plain": [
       "Jenis_Kelamin        0\n",
       "Umur                 0\n",
       "SIM                  0\n",
       "Kode_Daerah          0\n",
       "Sudah_Asuransi       0\n",
       "Umur_Kendaraan       0\n",
       "Kendaraan_Rusak      0\n",
       "Premi                0\n",
       "Kanal_Penjualan      0\n",
       "Lama_Berlangganan    0\n",
       "Tertarik             0\n",
       "dtype: int64"
      ]
     },
     "execution_count": 19,
     "metadata": {},
     "output_type": "execute_result"
    }
   ],
   "source": [
    "# Pengisian Data Sesuai Pendistribusiannya\n",
    "df_train['SIM'].fillna(float(df_train['SIM'].mode()), inplace=True)\n",
    "df_train['Kode_Daerah'].fillna(float(df_train['Kode_Daerah'].mode()), inplace=True)\n",
    "df_train['Kanal_Penjualan'].fillna(float(df_train['Kanal_Penjualan'].mode()), inplace=True)\n",
    "df_train['Lama_Berlangganan'].fillna(float(df_train['Lama_Berlangganan'].mean()), inplace=True)\n",
    "\n",
    "# Data Nominal Kategorikal Diisi Menggunakan Modus\n",
    "for i in df_train.columns:\n",
    "    df_train[i].fillna(float(df_train[i].median()), inplace=True)\n",
    "\n",
    "df_train.isna().sum()\n"
   ]
  },
  {
   "cell_type": "code",
   "execution_count": 20,
   "metadata": {},
   "outputs": [
    {
     "name": "stdout",
     "output_type": "stream",
     "text": [
      "Batas Atas :  59721.625\n",
      "Batas Bawah :  4066.625\n"
     ]
    }
   ],
   "source": [
    "# Membuat Rumus Penghapusan Outlier Dengan Menentukan Batas Atas Dan Batas Bawahnya \n",
    "Q1 = df_train[\"Premi\"].quantile(0.25)\n",
    "Q3 = df_train[\"Premi\"].quantile(0.75)\n",
    "IQR = Q3 - Q1\n",
    "\n",
    "BB = Q1 - (1.5 * IQR)\n",
    "BA = Q3 + (1.5 * IQR)\n",
    "\n",
    "print(\"Batas Atas : \", BA)\n",
    "print(\"Batas Bawah : \", BB)\n",
    "\n",
    "df_train = df_train[~((df_train[\"Premi\"] < BB) | (df_train[\"Premi\"] > BA))]"
   ]
  },
  {
   "cell_type": "code",
   "execution_count": 21,
   "metadata": {},
   "outputs": [
    {
     "name": "stdout",
     "output_type": "stream",
     "text": [
      "Total Dataset : 230631\n"
     ]
    },
    {
     "data": {
      "image/png": "[encoded data removed]",
      "text/plain": [
       "<Figure size 1152x288 with 3 Axes>"
      ]
     },
     "metadata": {
      "needs_background": "light"
     },
     "output_type": "display_data"
    }
   ],
   "source": [
    "print(\"Total Dataset :\", len(df_train))\n",
    "\n",
    "fig, ax = plt.subplots(ncols=3, figsize=(16, 4))\n",
    "sns.boxplot(y='Premi', data=df_train, ax=ax[0])\n",
    "sns.boxplot(y='Lama_Berlangganan', data=df_train, ax=ax[1])\n",
    "sns.boxplot(y='Kanal_Penjualan', data=df_train, ax=ax[2])\n",
    "plt.show()"
   ]
  },
  {
   "cell_type": "markdown",
   "metadata": {},
   "source": [
    "## **Scaling Data**"
   ]
  },
  {
   "cell_type": "code",
   "execution_count": 22,
   "metadata": {},
   "outputs": [
    {
     "data": {
      "text/html": [
       "<div>\n",
       "<style scoped>\n",
       "    .dataframe tbody tr th:only-of-type {\n",
       "        vertical-align: middle;\n",
       "    }\n",
       "\n",
       "    .dataframe tbody tr th {\n",
       "        vertical-align: top;\n",
       "    }\n",
       "\n",
       "    .dataframe thead th {\n",
       "        text-align: right;\n",
       "    }\n",
       "</style>\n",
       "<table border=\"1\" class=\"dataframe\">\n",
       "  <thead>\n",
       "    <tr style=\"text-align: right;\">\n",
       "      <th></th>\n",
       "      <th>Jenis_Kelamin</th>\n",
       "      <th>Umur</th>\n",
       "      <th>SIM</th>\n",
       "      <th>Kode_Daerah</th>\n",
       "      <th>Sudah_Asuransi</th>\n",
       "      <th>Umur_Kendaraan</th>\n",
       "      <th>Kendaraan_Rusak</th>\n",
       "      <th>Premi</th>\n",
       "      <th>Kanal_Penjualan</th>\n",
       "      <th>Lama_Berlangganan</th>\n",
       "      <th>Tertarik</th>\n",
       "    </tr>\n",
       "  </thead>\n",
       "  <tbody>\n",
       "    <tr>\n",
       "      <th>153471</th>\n",
       "      <td>0.0</td>\n",
       "      <td>0.584615</td>\n",
       "      <td>1.0</td>\n",
       "      <td>0.538462</td>\n",
       "      <td>1.0</td>\n",
       "      <td>1.0</td>\n",
       "      <td>0.0</td>\n",
       "      <td>0.589377</td>\n",
       "      <td>0.154321</td>\n",
       "      <td>0.401384</td>\n",
       "      <td>0</td>\n",
       "    </tr>\n",
       "    <tr>\n",
       "      <th>6977</th>\n",
       "      <td>1.0</td>\n",
       "      <td>0.246154</td>\n",
       "      <td>1.0</td>\n",
       "      <td>0.788462</td>\n",
       "      <td>0.0</td>\n",
       "      <td>0.0</td>\n",
       "      <td>1.0</td>\n",
       "      <td>0.690550</td>\n",
       "      <td>0.932099</td>\n",
       "      <td>0.311419</td>\n",
       "      <td>0</td>\n",
       "    </tr>\n",
       "    <tr>\n",
       "      <th>29761</th>\n",
       "      <td>1.0</td>\n",
       "      <td>0.246154</td>\n",
       "      <td>1.0</td>\n",
       "      <td>0.634615</td>\n",
       "      <td>1.0</td>\n",
       "      <td>0.0</td>\n",
       "      <td>1.0</td>\n",
       "      <td>0.336006</td>\n",
       "      <td>0.932099</td>\n",
       "      <td>0.301038</td>\n",
       "      <td>0</td>\n",
       "    </tr>\n",
       "    <tr>\n",
       "      <th>274539</th>\n",
       "      <td>1.0</td>\n",
       "      <td>0.292308</td>\n",
       "      <td>1.0</td>\n",
       "      <td>0.730769</td>\n",
       "      <td>0.0</td>\n",
       "      <td>1.0</td>\n",
       "      <td>1.0</td>\n",
       "      <td>0.582757</td>\n",
       "      <td>0.759259</td>\n",
       "      <td>0.771626</td>\n",
       "      <td>1</td>\n",
       "    </tr>\n",
       "    <tr>\n",
       "      <th>109672</th>\n",
       "      <td>1.0</td>\n",
       "      <td>0.046154</td>\n",
       "      <td>1.0</td>\n",
       "      <td>0.538462</td>\n",
       "      <td>1.0</td>\n",
       "      <td>0.0</td>\n",
       "      <td>0.0</td>\n",
       "      <td>0.429123</td>\n",
       "      <td>0.932099</td>\n",
       "      <td>0.238754</td>\n",
       "      <td>0</td>\n",
       "    </tr>\n",
       "  </tbody>\n",
       "</table>\n",
       "</div>"
      ],
      "text/plain": [
       "        Jenis_Kelamin      Umur  SIM  Kode_Daerah  Sudah_Asuransi  \\\n",
       "153471            0.0  0.584615  1.0     0.538462             1.0   \n",
       "6977              1.0  0.246154  1.0     0.788462             0.0   \n",
       "29761             1.0  0.246154  1.0     0.634615             1.0   \n",
       "274539            1.0  0.292308  1.0     0.730769             0.0   \n",
       "109672            1.0  0.046154  1.0     0.538462             1.0   \n",
       "\n",
       "        Umur_Kendaraan  Kendaraan_Rusak     Premi  Kanal_Penjualan  \\\n",
       "153471             1.0              0.0  0.589377         0.154321   \n",
       "6977               0.0              1.0  0.690550         0.932099   \n",
       "29761              0.0              1.0  0.336006         0.932099   \n",
       "274539             1.0              1.0  0.582757         0.759259   \n",
       "109672             0.0              0.0  0.429123         0.932099   \n",
       "\n",
       "        Lama_Berlangganan  Tertarik  \n",
       "153471           0.401384         0  \n",
       "6977             0.311419         0  \n",
       "29761            0.301038         0  \n",
       "274539           0.771626         1  \n",
       "109672           0.238754         0  "
      ]
     },
     "execution_count": 22,
     "metadata": {},
     "output_type": "execute_result"
    }
   ],
   "source": [
    "numerical = ['Lama_Berlangganan', 'Umur', 'Kode_Daerah', 'Kanal_Penjualan', 'Premi']\n",
    "\n",
    "scaler = MinMaxScaler()\n",
    "\n",
    "df_train[numerical] = scaler.fit_transform(df_train[numerical].values)\n",
    "df_train.sample(5)\n"
   ]
  },
  {
   "cell_type": "code",
   "execution_count": 23,
   "metadata": {},
   "outputs": [
    {
     "data": {
      "text/html": [
       "<div>\n",
       "<style scoped>\n",
       "    .dataframe tbody tr th:only-of-type {\n",
       "        vertical-align: middle;\n",
       "    }\n",
       "\n",
       "    .dataframe tbody tr th {\n",
       "        vertical-align: top;\n",
       "    }\n",
       "\n",
       "    .dataframe thead th {\n",
       "        text-align: right;\n",
       "    }\n",
       "</style>\n",
       "<table border=\"1\" class=\"dataframe\">\n",
       "  <thead>\n",
       "    <tr style=\"text-align: right;\">\n",
       "      <th></th>\n",
       "      <th>Jenis_Kelamin</th>\n",
       "      <th>Umur</th>\n",
       "      <th>SIM</th>\n",
       "      <th>Kode_Daerah</th>\n",
       "      <th>Sudah_Asuransi</th>\n",
       "      <th>Umur_Kendaraan</th>\n",
       "      <th>Kendaraan_Rusak</th>\n",
       "      <th>Premi</th>\n",
       "      <th>Kanal_Penjualan</th>\n",
       "      <th>Lama_Berlangganan</th>\n",
       "      <th>Tertarik</th>\n",
       "    </tr>\n",
       "  </thead>\n",
       "  <tbody>\n",
       "    <tr>\n",
       "      <th>8101</th>\n",
       "      <td>1</td>\n",
       "      <td>0.307692</td>\n",
       "      <td>1</td>\n",
       "      <td>0.115385</td>\n",
       "      <td>0</td>\n",
       "      <td>1</td>\n",
       "      <td>1</td>\n",
       "      <td>0.577759</td>\n",
       "      <td>0.154321</td>\n",
       "      <td>0.110727</td>\n",
       "      <td>0</td>\n",
       "    </tr>\n",
       "    <tr>\n",
       "      <th>25482</th>\n",
       "      <td>0</td>\n",
       "      <td>0.015385</td>\n",
       "      <td>1</td>\n",
       "      <td>0.115385</td>\n",
       "      <td>0</td>\n",
       "      <td>0</td>\n",
       "      <td>1</td>\n",
       "      <td>0.365939</td>\n",
       "      <td>0.932099</td>\n",
       "      <td>0.456747</td>\n",
       "      <td>0</td>\n",
       "    </tr>\n",
       "    <tr>\n",
       "      <th>1439</th>\n",
       "      <td>1</td>\n",
       "      <td>0.061538</td>\n",
       "      <td>1</td>\n",
       "      <td>0.538462</td>\n",
       "      <td>0</td>\n",
       "      <td>1</td>\n",
       "      <td>1</td>\n",
       "      <td>0.534026</td>\n",
       "      <td>0.746914</td>\n",
       "      <td>0.307958</td>\n",
       "      <td>0</td>\n",
       "    </tr>\n",
       "    <tr>\n",
       "      <th>26662</th>\n",
       "      <td>1</td>\n",
       "      <td>0.230769</td>\n",
       "      <td>1</td>\n",
       "      <td>0.538462</td>\n",
       "      <td>0</td>\n",
       "      <td>2</td>\n",
       "      <td>1</td>\n",
       "      <td>0.695996</td>\n",
       "      <td>0.154321</td>\n",
       "      <td>0.754325</td>\n",
       "      <td>0</td>\n",
       "    </tr>\n",
       "    <tr>\n",
       "      <th>45602</th>\n",
       "      <td>0</td>\n",
       "      <td>0.153846</td>\n",
       "      <td>1</td>\n",
       "      <td>0.288462</td>\n",
       "      <td>1</td>\n",
       "      <td>0</td>\n",
       "      <td>0</td>\n",
       "      <td>0.627366</td>\n",
       "      <td>0.932099</td>\n",
       "      <td>0.608997</td>\n",
       "      <td>0</td>\n",
       "    </tr>\n",
       "  </tbody>\n",
       "</table>\n",
       "</div>"
      ],
      "text/plain": [
       "       Jenis_Kelamin      Umur  SIM  Kode_Daerah  Sudah_Asuransi  \\\n",
       "8101               1  0.307692    1     0.115385               0   \n",
       "25482              0  0.015385    1     0.115385               0   \n",
       "1439               1  0.061538    1     0.538462               0   \n",
       "26662              1  0.230769    1     0.538462               0   \n",
       "45602              0  0.153846    1     0.288462               1   \n",
       "\n",
       "       Umur_Kendaraan  Kendaraan_Rusak     Premi  Kanal_Penjualan  \\\n",
       "8101                1                1  0.577759         0.154321   \n",
       "25482               0                1  0.365939         0.932099   \n",
       "1439                1                1  0.534026         0.746914   \n",
       "26662               2                1  0.695996         0.154321   \n",
       "45602               0                0  0.627366         0.932099   \n",
       "\n",
       "       Lama_Berlangganan  Tertarik  \n",
       "8101            0.110727         0  \n",
       "25482           0.456747         0  \n",
       "1439            0.307958         0  \n",
       "26662           0.754325         0  \n",
       "45602           0.608997         0  "
      ]
     },
     "execution_count": 23,
     "metadata": {},
     "output_type": "execute_result"
    }
   ],
   "source": [
    "df_test[numerical] = scaler.transform(df_test[numerical].values)\n",
    "df_test.sample(5)"
   ]
  },
  {
   "cell_type": "code",
   "execution_count": 24,
   "metadata": {},
   "outputs": [],
   "source": [
    "df_train_pca = df_train.copy()\n",
    "df_test_pca = df_test.copy()\n",
    "\n",
    "df_label_train = df_train['Tertarik']\n",
    "df_label_test = df_test['Tertarik']\n",
    "\n",
    "del df_train_pca['Tertarik']\n",
    "del df_test_pca['Tertarik']\n"
   ]
  },
  {
   "cell_type": "code",
   "execution_count": 25,
   "metadata": {},
   "outputs": [
    {
     "data": {
      "text/html": [
       "<div>\n",
       "<style scoped>\n",
       "    .dataframe tbody tr th:only-of-type {\n",
       "        vertical-align: middle;\n",
       "    }\n",
       "\n",
       "    .dataframe tbody tr th {\n",
       "        vertical-align: top;\n",
       "    }\n",
       "\n",
       "    .dataframe thead th {\n",
       "        text-align: right;\n",
       "    }\n",
       "</style>\n",
       "<table border=\"1\" class=\"dataframe\">\n",
       "  <thead>\n",
       "    <tr style=\"text-align: right;\">\n",
       "      <th></th>\n",
       "      <th>Component_1</th>\n",
       "      <th>Component_2</th>\n",
       "      <th>Tertarik</th>\n",
       "    </tr>\n",
       "  </thead>\n",
       "  <tbody>\n",
       "    <tr>\n",
       "      <th>169612</th>\n",
       "      <td>-0.000048</td>\n",
       "      <td>-0.205854</td>\n",
       "      <td>0</td>\n",
       "    </tr>\n",
       "    <tr>\n",
       "      <th>211580</th>\n",
       "      <td>0.106942</td>\n",
       "      <td>-0.541301</td>\n",
       "      <td>0</td>\n",
       "    </tr>\n",
       "    <tr>\n",
       "      <th>128589</th>\n",
       "      <td>-0.061465</td>\n",
       "      <td>-1.119419</td>\n",
       "      <td>1</td>\n",
       "    </tr>\n",
       "    <tr>\n",
       "      <th>206906</th>\n",
       "      <td>-0.104139</td>\n",
       "      <td>1.035677</td>\n",
       "      <td>0</td>\n",
       "    </tr>\n",
       "    <tr>\n",
       "      <th>180970</th>\n",
       "      <td>-0.206193</td>\n",
       "      <td>0.944151</td>\n",
       "      <td>0</td>\n",
       "    </tr>\n",
       "  </tbody>\n",
       "</table>\n",
       "</div>"
      ],
      "text/plain": [
       "        Component_1  Component_2  Tertarik\n",
       "169612    -0.000048    -0.205854         0\n",
       "211580     0.106942    -0.541301         0\n",
       "128589    -0.061465    -1.119419         1\n",
       "206906    -0.104139     1.035677         0\n",
       "180970    -0.206193     0.944151         0"
      ]
     },
     "execution_count": 25,
     "metadata": {},
     "output_type": "execute_result"
    }
   ],
   "source": [
    "pca = PCA(n_components=2)\n",
    "component = pca.fit_transform(df_train_pca)\n",
    "component_test = pca.transform(df_test_pca)\n",
    "\n",
    "df_train_pca = pd.DataFrame(data=component, columns=['Component_1', 'Component_2'])\n",
    "df_train_pca['Tertarik'] = df_label_train.values\n",
    "\n",
    "df_test_pca = pd.DataFrame(data=component_test, columns=['Component_1', 'Component_2'])\n",
    "df_test_pca['Tertarik'] = df_label_test.values\n",
    "\n",
    "df_train_pca.sample(5)"
   ]
  },
  {
   "cell_type": "code",
   "execution_count": 26,
   "metadata": {},
   "outputs": [],
   "source": [
    "df_train.to_csv('Dataset/kendaraan_train_clean.csv', index=False)\n",
    "df_test.to_csv('Dataset/kendaraan_test_clean.csv', index=False)\n",
    "\n",
    "df_train_pca.to_csv('Dataset/kendaraan_train_pca_clean.csv', index=False)\n",
    "df_test_pca.to_csv('Dataset/kendaraan_test_pca_clean.csv', index=False)"
   ]
  }
 ],
 "metadata": {
  "interpreter": {
   "hash": "2bf746931fd58f1246b6df4740a30aa94cbb7406c646ac7ef817c7ae9c273626"
  },
  "kernelspec": {
   "display_name": "Python 3.9.0 64-bit",
   "name": "python3"
  },
  "language_info": {
   "codemirror_mode": {
    "name": "ipython",
    "version": 3
   },
   "file_extension": ".py",
   "mimetype": "text/x-python",
   "name": "python",
   "nbconvert_exporter": "python",
   "pygments_lexer": "ipython3",
   "version": "3.9.0"
  },
  "orig_nbformat": 4
 },
 "nbformat": 4,
 "nbformat_minor": 2
}
